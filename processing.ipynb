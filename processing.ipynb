{
 "cells": [
  {
   "cell_type": "code",
   "execution_count": 44,
   "metadata": {
    "collapsed": true
   },
   "outputs": [],
   "source": [
    "import pandas as pd\n",
    "import numpy as np\n",
    "import os.path\n",
    "import sqlite3\n",
    "import re"
   ]
  },
  {
   "cell_type": "code",
   "execution_count": 45,
   "metadata": {
    "collapsed": true
   },
   "outputs": [],
   "source": [
    "# feature engineering in separate notebook"
   ]
  },
  {
   "cell_type": "code",
   "execution_count": 46,
   "metadata": {
    "collapsed": true
   },
   "outputs": [],
   "source": [
    "# we esimate 400 values of revol_util and 70k values of tot_coll_amt\n",
    "# must compare prediction results later when we use or exclude these features"
   ]
  },
  {
   "cell_type": "code",
   "execution_count": 47,
   "metadata": {
    "collapsed": true
   },
   "outputs": [],
   "source": [
    "# select from sqlite database. function is specific to the file used in this project for simplicity\n",
    "\n",
    "def select(query,path):\n",
    "    \n",
    "    conn = sqlite3.connect(path)\n",
    "    cursor = conn.cursor()\n",
    "    temp_df = pd.DataFrame(cursor.execute(query).fetchall())\n",
    "    temp_df.columns = list(map(lambda x: x[0], cursor.description))\n",
    "    conn.close()\n",
    "    \n",
    "    return temp_df.copy()\n",
    "\n",
    "loans = select('SELECT * FROM LOAN',os.getcwd()+'\\data\\lending-club-loan-data\\database.sqlite')"
   ]
  },
  {
   "cell_type": "code",
   "execution_count": 48,
   "metadata": {},
   "outputs": [
    {
     "data": {
      "text/html": [
       "<div>\n",
       "<style>\n",
       "    .dataframe thead tr:only-child th {\n",
       "        text-align: right;\n",
       "    }\n",
       "\n",
       "    .dataframe thead th {\n",
       "        text-align: left;\n",
       "    }\n",
       "\n",
       "    .dataframe tbody tr th {\n",
       "        vertical-align: top;\n",
       "    }\n",
       "</style>\n",
       "<table border=\"1\" class=\"dataframe\">\n",
       "  <thead>\n",
       "    <tr style=\"text-align: right;\">\n",
       "      <th></th>\n",
       "      <th>index</th>\n",
       "      <th>id</th>\n",
       "      <th>member_id</th>\n",
       "      <th>loan_amnt</th>\n",
       "      <th>funded_amnt</th>\n",
       "      <th>funded_amnt_inv</th>\n",
       "      <th>term</th>\n",
       "      <th>int_rate</th>\n",
       "      <th>installment</th>\n",
       "      <th>grade</th>\n",
       "      <th>...</th>\n",
       "      <th>total_bal_il</th>\n",
       "      <th>il_util</th>\n",
       "      <th>open_rv_12m</th>\n",
       "      <th>open_rv_24m</th>\n",
       "      <th>max_bal_bc</th>\n",
       "      <th>all_util</th>\n",
       "      <th>total_rev_hi_lim</th>\n",
       "      <th>inq_fi</th>\n",
       "      <th>total_cu_tl</th>\n",
       "      <th>inq_last_12m</th>\n",
       "    </tr>\n",
       "  </thead>\n",
       "  <tbody>\n",
       "    <tr>\n",
       "      <th>0</th>\n",
       "      <td>0</td>\n",
       "      <td>1077501</td>\n",
       "      <td>1296599.0</td>\n",
       "      <td>5000.0</td>\n",
       "      <td>5000.0</td>\n",
       "      <td>4975.0</td>\n",
       "      <td>36 months</td>\n",
       "      <td>10.65%</td>\n",
       "      <td>162.87</td>\n",
       "      <td>B</td>\n",
       "      <td>...</td>\n",
       "      <td>NaN</td>\n",
       "      <td>NaN</td>\n",
       "      <td>NaN</td>\n",
       "      <td>NaN</td>\n",
       "      <td>NaN</td>\n",
       "      <td>NaN</td>\n",
       "      <td>NaN</td>\n",
       "      <td>NaN</td>\n",
       "      <td>NaN</td>\n",
       "      <td>NaN</td>\n",
       "    </tr>\n",
       "    <tr>\n",
       "      <th>1</th>\n",
       "      <td>1</td>\n",
       "      <td>1077430</td>\n",
       "      <td>1314167.0</td>\n",
       "      <td>2500.0</td>\n",
       "      <td>2500.0</td>\n",
       "      <td>2500.0</td>\n",
       "      <td>60 months</td>\n",
       "      <td>15.27%</td>\n",
       "      <td>59.83</td>\n",
       "      <td>C</td>\n",
       "      <td>...</td>\n",
       "      <td>NaN</td>\n",
       "      <td>NaN</td>\n",
       "      <td>NaN</td>\n",
       "      <td>NaN</td>\n",
       "      <td>NaN</td>\n",
       "      <td>NaN</td>\n",
       "      <td>NaN</td>\n",
       "      <td>NaN</td>\n",
       "      <td>NaN</td>\n",
       "      <td>NaN</td>\n",
       "    </tr>\n",
       "    <tr>\n",
       "      <th>2</th>\n",
       "      <td>2</td>\n",
       "      <td>1077175</td>\n",
       "      <td>1313524.0</td>\n",
       "      <td>2400.0</td>\n",
       "      <td>2400.0</td>\n",
       "      <td>2400.0</td>\n",
       "      <td>36 months</td>\n",
       "      <td>15.96%</td>\n",
       "      <td>84.33</td>\n",
       "      <td>C</td>\n",
       "      <td>...</td>\n",
       "      <td>NaN</td>\n",
       "      <td>NaN</td>\n",
       "      <td>NaN</td>\n",
       "      <td>NaN</td>\n",
       "      <td>NaN</td>\n",
       "      <td>NaN</td>\n",
       "      <td>NaN</td>\n",
       "      <td>NaN</td>\n",
       "      <td>NaN</td>\n",
       "      <td>NaN</td>\n",
       "    </tr>\n",
       "    <tr>\n",
       "      <th>3</th>\n",
       "      <td>3</td>\n",
       "      <td>1076863</td>\n",
       "      <td>1277178.0</td>\n",
       "      <td>10000.0</td>\n",
       "      <td>10000.0</td>\n",
       "      <td>10000.0</td>\n",
       "      <td>36 months</td>\n",
       "      <td>13.49%</td>\n",
       "      <td>339.31</td>\n",
       "      <td>C</td>\n",
       "      <td>...</td>\n",
       "      <td>NaN</td>\n",
       "      <td>NaN</td>\n",
       "      <td>NaN</td>\n",
       "      <td>NaN</td>\n",
       "      <td>NaN</td>\n",
       "      <td>NaN</td>\n",
       "      <td>NaN</td>\n",
       "      <td>NaN</td>\n",
       "      <td>NaN</td>\n",
       "      <td>NaN</td>\n",
       "    </tr>\n",
       "    <tr>\n",
       "      <th>4</th>\n",
       "      <td>4</td>\n",
       "      <td>1075358</td>\n",
       "      <td>1311748.0</td>\n",
       "      <td>3000.0</td>\n",
       "      <td>3000.0</td>\n",
       "      <td>3000.0</td>\n",
       "      <td>60 months</td>\n",
       "      <td>12.69%</td>\n",
       "      <td>67.79</td>\n",
       "      <td>B</td>\n",
       "      <td>...</td>\n",
       "      <td>NaN</td>\n",
       "      <td>NaN</td>\n",
       "      <td>NaN</td>\n",
       "      <td>NaN</td>\n",
       "      <td>NaN</td>\n",
       "      <td>NaN</td>\n",
       "      <td>NaN</td>\n",
       "      <td>NaN</td>\n",
       "      <td>NaN</td>\n",
       "      <td>NaN</td>\n",
       "    </tr>\n",
       "  </tbody>\n",
       "</table>\n",
       "<p>5 rows × 75 columns</p>\n",
       "</div>"
      ],
      "text/plain": [
       "   index       id  member_id  loan_amnt  funded_amnt  funded_amnt_inv  \\\n",
       "0      0  1077501  1296599.0     5000.0       5000.0           4975.0   \n",
       "1      1  1077430  1314167.0     2500.0       2500.0           2500.0   \n",
       "2      2  1077175  1313524.0     2400.0       2400.0           2400.0   \n",
       "3      3  1076863  1277178.0    10000.0      10000.0          10000.0   \n",
       "4      4  1075358  1311748.0     3000.0       3000.0           3000.0   \n",
       "\n",
       "         term int_rate  installment grade     ...      total_bal_il il_util  \\\n",
       "0   36 months   10.65%       162.87     B     ...               NaN     NaN   \n",
       "1   60 months   15.27%        59.83     C     ...               NaN     NaN   \n",
       "2   36 months   15.96%        84.33     C     ...               NaN     NaN   \n",
       "3   36 months   13.49%       339.31     C     ...               NaN     NaN   \n",
       "4   60 months   12.69%        67.79     B     ...               NaN     NaN   \n",
       "\n",
       "  open_rv_12m open_rv_24m  max_bal_bc all_util total_rev_hi_lim inq_fi  \\\n",
       "0         NaN         NaN         NaN      NaN              NaN    NaN   \n",
       "1         NaN         NaN         NaN      NaN              NaN    NaN   \n",
       "2         NaN         NaN         NaN      NaN              NaN    NaN   \n",
       "3         NaN         NaN         NaN      NaN              NaN    NaN   \n",
       "4         NaN         NaN         NaN      NaN              NaN    NaN   \n",
       "\n",
       "  total_cu_tl inq_last_12m  \n",
       "0         NaN          NaN  \n",
       "1         NaN          NaN  \n",
       "2         NaN          NaN  \n",
       "3         NaN          NaN  \n",
       "4         NaN          NaN  \n",
       "\n",
       "[5 rows x 75 columns]"
      ]
     },
     "execution_count": 48,
     "metadata": {},
     "output_type": "execute_result"
    }
   ],
   "source": [
    "loans.head()"
   ]
  },
  {
   "cell_type": "code",
   "execution_count": 49,
   "metadata": {
    "collapsed": true
   },
   "outputs": [],
   "source": [
    "# term has 1 NaN value. remove the datapoint - negligible reduction in total data \n",
    "# remove 'months' appended in term and convert to numerical (integers)\n",
    "\n",
    "loans = loans[loans.term.notnull()]\n",
    "loans.loc[:,'term'] = loans.term.apply(lambda x : int(re.findall(r\"\\D(\\d{2})\\D\",x)[0]))"
   ]
  },
  {
   "cell_type": "code",
   "execution_count": 50,
   "metadata": {
    "collapsed": true
   },
   "outputs": [],
   "source": [
    "# remove % sign from int_rate and convert to float\n",
    "\n",
    "loans.loc[:,'int_rate'] = loans.int_rate.apply(lambda x : float(x[:-1]))"
   ]
  },
  {
   "cell_type": "code",
   "execution_count": 51,
   "metadata": {
    "collapsed": true
   },
   "outputs": [],
   "source": [
    "# apply simple linear transformation on classes to numerical values. \n",
    "# **important note** this is altering the underlying data (interpreting it in a way that may not be completely justified)\n",
    "# must be careful about conclusions arrived at from this column\n",
    "# may want to leave this as categorical, or create a new column entirely with this transformation\n",
    "\n",
    "grade_map = {'A':7,'B':6,'C':5,'D':4,'E':3,'F':2,'G':1}\n",
    "loans.grade = loans.grade.apply(lambda x: grade_map[x])"
   ]
  },
  {
   "cell_type": "code",
   "execution_count": 52,
   "metadata": {
    "collapsed": true
   },
   "outputs": [],
   "source": [
    "# drop sub_grade. sub_grades correspond to interest rates--redundant information.\n",
    "\n",
    "loans = loans.drop('sub_grade',axis=1)"
   ]
  },
  {
   "cell_type": "code",
   "execution_count": 53,
   "metadata": {
    "collapsed": true
   },
   "outputs": [],
   "source": [
    "# create mapping from strings to employed length. replace 'n/a' with the mean of the data set. dropping would del 40k vectors\n",
    "# mean is 6.009. round as 6 to save storage cost on float (20 is an intermediate filler value for the transformation)\n",
    "\n",
    "keys = list(np.unique(loans['emp_length'].values))\n",
    "values = [1,10,2,3,4,5,6,7,8,9,0,20]\n",
    "mappings = dict(zip(keys,values))\n",
    "loans.emp_length = loans.emp_length.apply(lambda x: mappings[x]).replace(20,6)"
   ]
  },
  {
   "cell_type": "code",
   "execution_count": 54,
   "metadata": {
    "collapsed": true
   },
   "outputs": [],
   "source": [
    "# annual_inc has 4 NaN values.\n",
    "# !! make sure column is written to and read from SQL DB as int. otherwise do dtype conversion after processing\n",
    "\n",
    "loans = loans[loans.annual_inc.notnull()]\n",
    "loans.annual_inc = loans.annual_inc.astype(int)"
   ]
  },
  {
   "cell_type": "code",
   "execution_count": 55,
   "metadata": {
    "collapsed": true
   },
   "outputs": [],
   "source": [
    "# also check this column (dtype is properly preserved?) remove this step if not\n",
    "\n",
    "loans.issue_d = pd.to_datetime(loans.issue_d)"
   ]
  },
  {
   "cell_type": "code",
   "execution_count": 56,
   "metadata": {
    "collapsed": true
   },
   "outputs": [],
   "source": [
    "# 25 null values\n",
    "\n",
    "loans = loans[loans.delinq_2yrs.notnull()]\n",
    "loans.delinq_2yrs = loans.delinq_2yrs.astype(int)"
   ]
  },
  {
   "cell_type": "code",
   "execution_count": 57,
   "metadata": {
    "collapsed": true
   },
   "outputs": [],
   "source": [
    "# do this after processing if datatype is not properly maintained between read/writes to SQL database\n",
    "\n",
    "loans.inq_last_6mths = loans.inq_last_6mths.astype(int)"
   ]
  },
  {
   "cell_type": "code",
   "execution_count": 58,
   "metadata": {},
   "outputs": [
    {
     "data": {
      "text/plain": [
       "454284"
      ]
     },
     "execution_count": 58,
     "metadata": {},
     "output_type": "execute_result"
    }
   ],
   "source": [
    "# going to leave NaN values alone. likely implies the loan never went delinquent?\n",
    "\n",
    "loans['mths_since_last_delinq'].isnull().sum()"
   ]
  },
  {
   "cell_type": "code",
   "execution_count": 59,
   "metadata": {
    "collapsed": true
   },
   "outputs": [],
   "source": [
    "# too many NaN values to be useful\n",
    "\n",
    "loans = loans.drop('mths_since_last_record', axis=1)"
   ]
  },
  {
   "cell_type": "code",
   "execution_count": 60,
   "metadata": {
    "collapsed": true
   },
   "outputs": [],
   "source": [
    "loans.pub_rec = loans.pub_rec.astype(int)"
   ]
  },
  {
   "cell_type": "code",
   "execution_count": 61,
   "metadata": {
    "collapsed": true
   },
   "outputs": [],
   "source": [
    "loans.revol_bal = loans.revol_bal.astype(int)"
   ]
  },
  {
   "cell_type": "code",
   "execution_count": 62,
   "metadata": {
    "collapsed": true
   },
   "outputs": [],
   "source": [
    "# remove percentage sign and convert to float\n",
    "# ~450 NaN values\n",
    "\n",
    "def f(x):\n",
    "    if x is not None:\n",
    "        return x[:-1]\n",
    "    else:\n",
    "        return np.NaN\n",
    "\n",
    "loans.revol_util = loans.revol_util.apply(f).astype(float)"
   ]
  },
  {
   "cell_type": "code",
   "execution_count": 63,
   "metadata": {
    "collapsed": true
   },
   "outputs": [],
   "source": [
    "loans.total_acc = loans.total_acc.astype(int)"
   ]
  },
  {
   "cell_type": "code",
   "execution_count": 64,
   "metadata": {
    "collapsed": true
   },
   "outputs": [],
   "source": [
    "# 17.6k null values..can't fill these values based on values of other loans.... drop for now. check at the end\n",
    "# that we didn't lose too many data points for a single target output. i.e. hope the loss in data is evenly spread,\n",
    "# in which case it represents about 2% loss of the dataset\n",
    "\n",
    "loans = loans[loans.last_pymnt_d.notnull()]"
   ]
  },
  {
   "cell_type": "code",
   "execution_count": 65,
   "metadata": {},
   "outputs": [
    {
     "data": {
      "text/plain": [
       "252445"
      ]
     },
     "execution_count": 65,
     "metadata": {},
     "output_type": "execute_result"
    }
   ],
   "source": [
    "# \"completed\" loans have no next pymnt day. remove this column for those\n",
    "\n",
    "loans.next_pymnt_d.isnull().sum()"
   ]
  },
  {
   "cell_type": "code",
   "execution_count": 66,
   "metadata": {},
   "outputs": [
    {
     "data": {
      "text/plain": [
       "0"
      ]
     },
     "execution_count": 66,
     "metadata": {},
     "output_type": "execute_result"
    }
   ],
   "source": [
    "# no null values for \"in progress\" loans\n",
    "\n",
    "loans[(loans.loan_status!=('Fully Paid')) & (loans.loan_status!=('Charged Off'))].next_pymnt_d.isnull().sum()"
   ]
  },
  {
   "cell_type": "code",
   "execution_count": 67,
   "metadata": {
    "collapsed": true
   },
   "outputs": [],
   "source": [
    "# 51 null values\n",
    "\n",
    "loans = loans[loans.last_credit_pull_d.notnull()]"
   ]
  },
  {
   "cell_type": "code",
   "execution_count": 68,
   "metadata": {
    "collapsed": true
   },
   "outputs": [],
   "source": [
    "# 115 null values\n",
    "\n",
    "loans = loans[loans.collections_12_mths_ex_med.notnull()]"
   ]
  },
  {
   "cell_type": "code",
   "execution_count": 69,
   "metadata": {},
   "outputs": [
    {
     "data": {
      "text/plain": [
       "652962"
      ]
     },
     "execution_count": 69,
     "metadata": {},
     "output_type": "execute_result"
    }
   ],
   "source": [
    "# NaN likely implies bad rating was never reached. leave values as null; decide later how to handle NaN\n",
    "\n",
    "loans.mths_since_last_major_derog.isnull().sum()"
   ]
  },
  {
   "cell_type": "code",
   "execution_count": 70,
   "metadata": {
    "collapsed": true
   },
   "outputs": [],
   "source": [
    "loans.policy_code = loans.policy_code.astype(int)"
   ]
  },
  {
   "cell_type": "code",
   "execution_count": 71,
   "metadata": {
    "collapsed": true
   },
   "outputs": [],
   "source": [
    "loans = loans.drop('annual_inc_joint',axis=1)\n",
    "loans = loans.drop('dti_joint',axis=1)\n",
    "loans = loans.drop('verification_status_joint',axis=1)"
   ]
  },
  {
   "cell_type": "code",
   "execution_count": 72,
   "metadata": {
    "collapsed": true
   },
   "outputs": [],
   "source": [
    "loans.acc_now_delinq = loans.acc_now_delinq.astype(int)"
   ]
  },
  {
   "cell_type": "code",
   "execution_count": 73,
   "metadata": {
    "collapsed": true
   },
   "outputs": [],
   "source": [
    "# FILLING 70K MISSING VALUES FOR THIS COLUMN\n",
    "\n",
    "# loans = loans.drop('tot_coll_amt',axis=1)"
   ]
  },
  {
   "cell_type": "code",
   "execution_count": 74,
   "metadata": {
    "collapsed": true
   },
   "outputs": [],
   "source": [
    "# about 70k null values. description seems very similar to revol_bal; will not bother with filling values\n",
    "\n",
    "loans = loans.drop('tot_cur_bal',axis=1)"
   ]
  },
  {
   "cell_type": "code",
   "execution_count": 75,
   "metadata": {
    "collapsed": true
   },
   "outputs": [],
   "source": [
    "# all have about 860k null values. cannot reasonably estimate\n",
    "\n",
    "loans = loans.drop('open_acc_6m',axis=1)\n",
    "loans = loans.drop('open_il_6m',axis=1)\n",
    "loans = loans.drop('open_il_12m',axis=1)\n",
    "loans = loans.drop('open_il_24m',axis=1)\n",
    "loans = loans.drop('mths_since_rcnt_il',axis=1)\n",
    "loans = loans.drop('total_bal_il',axis=1)\n",
    "loans = loans.drop('il_util',axis=1)\n",
    "loans = loans.drop('open_rv_12m',axis=1)\n",
    "loans = loans.drop('open_rv_24m',axis=1)\n",
    "loans = loans.drop('max_bal_bc',axis=1)\n",
    "loans = loans.drop('all_util',axis=1)\n",
    "loans = loans.drop('inq_fi',axis=1)\n",
    "loans = loans.drop('total_cu_tl',axis=1)\n",
    "loans = loans.drop('inq_last_12m',axis=1)"
   ]
  },
  {
   "cell_type": "code",
   "execution_count": 76,
   "metadata": {
    "collapsed": true
   },
   "outputs": [],
   "source": [
    "# not in data dictionary, about 70k null values. we will drop this since we don't know how to interpret the data anyway\n",
    "# (in practice, leave it. this is for the sake of illustration within the project)\n",
    "\n",
    "loans = loans.drop('total_rev_hi_lim',axis=1)"
   ]
  },
  {
   "cell_type": "code",
   "execution_count": 77,
   "metadata": {
    "collapsed": true
   },
   "outputs": [],
   "source": [
    "# index is unnecessary. df handles this\n",
    "\n",
    "loans = loans.drop('index',axis=1)\n",
    "loans = loans.reset_index()"
   ]
  },
  {
   "cell_type": "code",
   "execution_count": 78,
   "metadata": {
    "collapsed": true
   },
   "outputs": [],
   "source": [
    "# leaving database.sqlite untouched as the raw database provided by lending club\n",
    "# alternatively, could write the table to the same SQLite db\n",
    "\n",
    "# conn = sqlite3.connect(os.getcwd()+'\\data\\lending-club-loan-data\\database2.sqlite')\n",
    "# loans.to_sql('loan_clean',conn,index=False)\n",
    "# conn.close()"
   ]
  },
  {
   "cell_type": "code",
   "execution_count": 79,
   "metadata": {
    "collapsed": true
   },
   "outputs": [],
   "source": [
    "loans_clean = select('SELECT * FROM LOAN_CLEAN',os.getcwd()+'\\data\\lending-club-loan-data\\database2.sqlite')"
   ]
  },
  {
   "cell_type": "code",
   "execution_count": 80,
   "metadata": {},
   "outputs": [
    {
     "data": {
      "text/plain": [
       "index                               0\n",
       "id                                  0\n",
       "member_id                           0\n",
       "loan_amnt                           0\n",
       "funded_amnt                         0\n",
       "funded_amnt_inv                     0\n",
       "term                                0\n",
       "int_rate                            0\n",
       "installment                         0\n",
       "grade                               0\n",
       "emp_title                       50193\n",
       "emp_length                          0\n",
       "home_ownership                      0\n",
       "annual_inc                          0\n",
       "verification_status                 0\n",
       "issue_d                             0\n",
       "loan_status                         0\n",
       "pymnt_plan                          0\n",
       "url                                 0\n",
       "desc                           743762\n",
       "purpose                             0\n",
       "title                              28\n",
       "zip_code                            0\n",
       "addr_state                          0\n",
       "dti                                 0\n",
       "delinq_2yrs                         0\n",
       "earliest_cr_line                    0\n",
       "inq_last_6mths                      0\n",
       "mths_since_last_delinq         445779\n",
       "open_acc                            0\n",
       "pub_rec                             0\n",
       "revol_bal                           0\n",
       "revol_util                        456\n",
       "total_acc                           0\n",
       "initial_list_status                 0\n",
       "out_prncp                           0\n",
       "out_prncp_inv                       0\n",
       "total_pymnt                         0\n",
       "total_pymnt_inv                     0\n",
       "total_rec_prncp                     0\n",
       "total_rec_int                       0\n",
       "total_rec_late_fee                  0\n",
       "recoveries                          0\n",
       "collection_recovery_fee             0\n",
       "last_pymnt_d                        0\n",
       "last_pymnt_amnt                     0\n",
       "next_pymnt_d                   252368\n",
       "last_credit_pull_d                  0\n",
       "collections_12_mths_ex_med          0\n",
       "mths_since_last_major_derog    652962\n",
       "policy_code                         0\n",
       "application_type                    0\n",
       "acc_now_delinq                      0\n",
       "tot_coll_amt                    70015\n",
       "dtype: int64"
      ]
     },
     "execution_count": 80,
     "metadata": {},
     "output_type": "execute_result"
    }
   ],
   "source": [
    "# features left as NaN: \n",
    "# either unimportant features for modeling e.g. emp_title or have meaning in themselves as NaN e.g. mths_since_last_delinq\n",
    "\n",
    "loans_clean.isnull().sum()"
   ]
  },
  {
   "cell_type": "code",
   "execution_count": 81,
   "metadata": {
    "collapsed": true
   },
   "outputs": [],
   "source": [
    "# seems the datetime conversion is not maintained through write/read to SQL db, but float to int is\n",
    "# datetime conversion must be done in next reads (during feature engineering and analyses steps)"
   ]
  },
  {
   "cell_type": "code",
   "execution_count": 82,
   "metadata": {},
   "outputs": [
    {
     "data": {
      "text/plain": [
       "0    2011-12-01 00:00:00\n",
       "1    2011-12-01 00:00:00\n",
       "2    2011-12-01 00:00:00\n",
       "3    2011-12-01 00:00:00\n",
       "4    2011-12-01 00:00:00\n",
       "Name: issue_d, dtype: object"
      ]
     },
     "execution_count": 82,
     "metadata": {},
     "output_type": "execute_result"
    }
   ],
   "source": [
    "loans_clean.issue_d.head()"
   ]
  },
  {
   "cell_type": "code",
   "execution_count": 83,
   "metadata": {},
   "outputs": [
    {
     "data": {
      "text/plain": [
       "0    1\n",
       "1    5\n",
       "2    2\n",
       "3    1\n",
       "4    0\n",
       "Name: inq_last_6mths, dtype: int64"
      ]
     },
     "execution_count": 83,
     "metadata": {},
     "output_type": "execute_result"
    }
   ],
   "source": [
    "loans_clean.inq_last_6mths.head()"
   ]
  }
 ],
 "metadata": {
  "kernelspec": {
   "display_name": "Python 3",
   "language": "python",
   "name": "python3"
  },
  "language_info": {
   "codemirror_mode": {
    "name": "ipython",
    "version": 3
   },
   "file_extension": ".py",
   "mimetype": "text/x-python",
   "name": "python",
   "nbconvert_exporter": "python",
   "pygments_lexer": "ipython3",
   "version": "3.6.3"
  }
 },
 "nbformat": 4,
 "nbformat_minor": 2
}
