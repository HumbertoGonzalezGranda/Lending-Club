{
 "cells": [
  {
   "cell_type": "code",
   "execution_count": 168,
   "metadata": {
    "collapsed": true
   },
   "outputs": [],
   "source": [
    "import pandas as pd\n",
    "import numpy as np\n",
    "import matplotlib.pyplot as plt\n",
    "import seaborn as sns\n",
    "import sqlite3\n",
    "\n",
    "%matplotlib inline"
   ]
  },
  {
   "cell_type": "code",
   "execution_count": 169,
   "metadata": {
    "collapsed": true
   },
   "outputs": [],
   "source": [
    "def select(query):\n",
    "    \n",
    "    conn = sqlite3.connect('./data/lending-club-loan-data/database2.sqlite')\n",
    "    cursor = conn.cursor()\n",
    "    temp_df = pd.DataFrame(cursor.execute(query).fetchall())\n",
    "    temp_df.columns = list(map(lambda x: x[0], cursor.description))\n",
    "    conn.close()\n",
    "    \n",
    "    return temp_df.copy()"
   ]
  },
  {
   "cell_type": "code",
   "execution_count": 170,
   "metadata": {},
   "outputs": [],
   "source": [
    "loans = select('SELECT * FROM LOAN_FINAL')\n",
    "loans = loans.drop('index',axis=1)"
   ]
  },
  {
   "cell_type": "code",
   "execution_count": 171,
   "metadata": {},
   "outputs": [],
   "source": [
    "# separating the data into the two problems at hand: \"Completed Loans\" vs. \"In Progress Loans\"\n",
    "\n",
    "loans_completed = loans[(loans['loan_status']=='Charged Off') | (loans['loan_status']=='Fully Paid')].copy()\n",
    "features_completed = loans_completed.drop('loan_status',axis=1).copy()\n",
    "targets_completed = loans_completed['loan_status'].copy()\n",
    "\n",
    "loans_in_progress = loans[(loans['loan_status'] != 'Charged Off') & (loans['loan_status'] != 'Fully Paid')].copy()\n",
    "features_in_progress = loans_in_progress.drop('loan_status',axis=1).copy()\n",
    "targets_in_progress = loans_in_progress['loan_status'].copy()"
   ]
  },
  {
   "cell_type": "code",
   "execution_count": 172,
   "metadata": {},
   "outputs": [],
   "source": [
    "# split up features into numerical and non-numerical values\n",
    "\n",
    "numerical = []\n",
    "strings = []\n",
    "\n",
    "for i in range(len(loans.dtypes)):\n",
    "    if (loans.dtypes[i] == 'int64') or (loans.dtypes[i] == 'float64'):\n",
    "        numerical = numerical + [loans.dtypes.index[i]]\n",
    "        \n",
    "    if (loans.dtypes[i] == 'O') and (loans.dtypes.index[i]!='loan_status'):\n",
    "        strings = strings + [loans.dtypes.index[i]]"
   ]
  },
  {
   "cell_type": "code",
   "execution_count": 173,
   "metadata": {},
   "outputs": [],
   "source": [
    "outputmap = {'Charged Off':0,'Fully Paid':1}\n",
    "targets_completed = targets_completed.apply(lambda x: outputmap[x])"
   ]
  },
  {
   "cell_type": "code",
   "execution_count": 194,
   "metadata": {
    "scrolled": false
   },
   "outputs": [],
   "source": [
    "from sklearn.model_selection import train_test_split\n",
    "\n",
    "features_completed_train, features_completed_test, targets_completed_train, targets_completed_test = \\\n",
    "    train_test_split(features_completed[numerical],targets_completed,random_state=10,test_size=0.2)"
   ]
  },
  {
   "cell_type": "code",
   "execution_count": 197,
   "metadata": {},
   "outputs": [],
   "source": [
    "from sklearn.linear_model import LogisticRegression\n",
    "\n",
    "completed_lr = LogisticRegression()"
   ]
  },
  {
   "cell_type": "code",
   "execution_count": 202,
   "metadata": {},
   "outputs": [],
   "source": [
    "features_completed_train = features_completed_train.drop(['mths_since_last_delinq','mths_since_last_major_derog'],axis=1)"
   ]
  },
  {
   "cell_type": "code",
   "execution_count": 205,
   "metadata": {},
   "outputs": [],
   "source": [
    "# contain NaN values need to figure out how to translate the meaning implied by NaN in these columns\n",
    "\n",
    "numerical.remove('mths_since_last_delinq')\n",
    "numerical.remove('mths_since_last_major_derog')"
   ]
  },
  {
   "cell_type": "code",
   "execution_count": 208,
   "metadata": {},
   "outputs": [
    {
     "data": {
      "text/plain": [
       "LogisticRegression(C=1.0, class_weight=None, dual=False, fit_intercept=True,\n",
       "          intercept_scaling=1, max_iter=100, multi_class='ovr', n_jobs=1,\n",
       "          penalty='l2', random_state=None, solver='liblinear', tol=0.0001,\n",
       "          verbose=0, warm_start=False)"
      ]
     },
     "execution_count": 208,
     "metadata": {},
     "output_type": "execute_result"
    }
   ],
   "source": [
    "completed_lr.fit(features_completed_train[numerical],targets_completed_train)"
   ]
  },
  {
   "cell_type": "code",
   "execution_count": 209,
   "metadata": {
    "collapsed": true
   },
   "outputs": [],
   "source": [
    "from sklearn.metrics import accuracy_score\n",
    "\n",
    "accuracy_score(completed_lr.predict(features_completed_test[numerical]),targets_completed_test)"
   ]
  },
  {
   "cell_type": "code",
   "execution_count": 216,
   "metadata": {},
   "outputs": [
    {
     "data": {
      "text/plain": [
       "0.98848932285464797"
      ]
     },
     "execution_count": 216,
     "metadata": {},
     "output_type": "execute_result"
    }
   ],
   "source": [
    "# baseline score....already performs ridiculously well. perhaps need to strip away some features that give obvious\n",
    "# 'hints' to our model about whether the loan will be charged off. (e.g. recoveries, collection recovery fee, etc..)\n",
    "\n",
    "accuracy_score(completed_lr.predict(features_completed_test[numerical]),targets_completed_test)"
   ]
  }
 ],
 "metadata": {
  "kernelspec": {
   "display_name": "Python 3",
   "language": "python",
   "name": "python3"
  },
  "language_info": {
   "codemirror_mode": {
    "name": "ipython",
    "version": 3
   },
   "file_extension": ".py",
   "mimetype": "text/x-python",
   "name": "python",
   "nbconvert_exporter": "python",
   "pygments_lexer": "ipython3",
   "version": "3.6.3"
  }
 },
 "nbformat": 4,
 "nbformat_minor": 2
}
