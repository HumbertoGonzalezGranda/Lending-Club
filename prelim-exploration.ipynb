{
 "cells": [
  {
   "cell_type": "code",
   "execution_count": 1,
   "metadata": {
    "collapsed": true
   },
   "outputs": [],
   "source": [
    "import pandas as pd\n",
    "import numpy as np\n",
    "import matplotlib.pyplot as plt\n",
    "import seaborn as sns\n",
    "import os.path\n",
    "import sqlite3\n",
    "from datetime import datetime\n",
    "\n",
    "sns.set_style('whitegrid')\n",
    "\n",
    "%matplotlib inline"
   ]
  },
  {
   "cell_type": "code",
   "execution_count": 2,
   "metadata": {
    "collapsed": true
   },
   "outputs": [],
   "source": [
    "# !! focus on writing more functions in CP2, to reduce bunches of repetitive tasks like v v "
   ]
  },
  {
   "cell_type": "code",
   "execution_count": 3,
   "metadata": {
    "collapsed": true
   },
   "outputs": [],
   "source": [
    "conn = sqlite3.connect(os.getcwd()+'\\data\\lending-club-loan-data\\database.sqlite')\n",
    "cursor = conn.cursor()\n",
    "loans2 = pd.DataFrame(cursor.execute('SELECT * FROM LOAN').fetchall())\n",
    "loans2.columns = np.array(cursor.execute('PRAGMA table_info(loan)').fetchall())[:,1]\n",
    "conn.close()"
   ]
  },
  {
   "cell_type": "code",
   "execution_count": 42,
   "metadata": {
    "collapsed": true
   },
   "outputs": [],
   "source": [
    "# function to automate the above. no need for high level abstraction, since it's specific to this project and dataset\n",
    "# i.e. keep it simple \n",
    "\n",
    "# !! need to fix the column specification for when we select only certain columns\n",
    "\n",
    "def select(query):\n",
    "    conn = sqlite3.connect(os.getcwd()+'\\data\\lending-club-loan-data\\database.sqlite')\n",
    "    cursor = conn.cursor()\n",
    "    temp_df = pd.DataFrame(cursor.execute(query).fetchall())\n",
    "    temp_df.columns = list(map(lambda x: x[0], cursor.description))\n",
    "    conn.close()\n",
    "    \n",
    "    return temp_df.copy()\n"
   ]
  },
  {
   "cell_type": "code",
   "execution_count": 28,
   "metadata": {
    "collapsed": true
   },
   "outputs": [],
   "source": [
    "loans3 = select('SELECT * FROM LOAN')"
   ]
  },
  {
   "cell_type": "code",
   "execution_count": null,
   "metadata": {
    "collapsed": true
   },
   "outputs": [],
   "source": []
  },
  {
   "cell_type": "code",
   "execution_count": 45,
   "metadata": {
    "collapsed": true
   },
   "outputs": [],
   "source": [
    "test = select('SELECT member_id, funded_amnt, term, int_rate FROM LOAN')"
   ]
  },
  {
   "cell_type": "code",
   "execution_count": 46,
   "metadata": {},
   "outputs": [
    {
     "data": {
      "text/html": [
       "<div>\n",
       "<table border=\"1\" class=\"dataframe\">\n",
       "  <thead>\n",
       "    <tr style=\"text-align: right;\">\n",
       "      <th></th>\n",
       "      <th>member_id</th>\n",
       "      <th>funded_amnt</th>\n",
       "      <th>term</th>\n",
       "      <th>int_rate</th>\n",
       "    </tr>\n",
       "  </thead>\n",
       "  <tbody>\n",
       "    <tr>\n",
       "      <th>0</th>\n",
       "      <td>1296599.0</td>\n",
       "      <td>5000.0</td>\n",
       "      <td>36 months</td>\n",
       "      <td>10.65%</td>\n",
       "    </tr>\n",
       "    <tr>\n",
       "      <th>1</th>\n",
       "      <td>1314167.0</td>\n",
       "      <td>2500.0</td>\n",
       "      <td>60 months</td>\n",
       "      <td>15.27%</td>\n",
       "    </tr>\n",
       "    <tr>\n",
       "      <th>2</th>\n",
       "      <td>1313524.0</td>\n",
       "      <td>2400.0</td>\n",
       "      <td>36 months</td>\n",
       "      <td>15.96%</td>\n",
       "    </tr>\n",
       "    <tr>\n",
       "      <th>3</th>\n",
       "      <td>1277178.0</td>\n",
       "      <td>10000.0</td>\n",
       "      <td>36 months</td>\n",
       "      <td>13.49%</td>\n",
       "    </tr>\n",
       "    <tr>\n",
       "      <th>4</th>\n",
       "      <td>1311748.0</td>\n",
       "      <td>3000.0</td>\n",
       "      <td>60 months</td>\n",
       "      <td>12.69%</td>\n",
       "    </tr>\n",
       "  </tbody>\n",
       "</table>\n",
       "</div>"
      ],
      "text/plain": [
       "   member_id  funded_amnt        term int_rate\n",
       "0  1296599.0       5000.0   36 months   10.65%\n",
       "1  1314167.0       2500.0   60 months   15.27%\n",
       "2  1313524.0       2400.0   36 months   15.96%\n",
       "3  1277178.0      10000.0   36 months   13.49%\n",
       "4  1311748.0       3000.0   60 months   12.69%"
      ]
     },
     "execution_count": 46,
     "metadata": {},
     "output_type": "execute_result"
    }
   ],
   "source": [
    "test.head()"
   ]
  },
  {
   "cell_type": "code",
   "execution_count": null,
   "metadata": {
    "collapsed": true
   },
   "outputs": [],
   "source": []
  },
  {
   "cell_type": "code",
   "execution_count": null,
   "metadata": {
    "collapsed": true
   },
   "outputs": [],
   "source": []
  },
  {
   "cell_type": "code",
   "execution_count": 39,
   "metadata": {},
   "outputs": [
    {
     "data": {
      "text/html": [
       "<div>\n",
       "<table border=\"1\" class=\"dataframe\">\n",
       "  <thead>\n",
       "    <tr style=\"text-align: right;\">\n",
       "      <th></th>\n",
       "      <th>index</th>\n",
       "      <th>member_id</th>\n",
       "      <th>loan_amnt</th>\n",
       "      <th>funded_amnt</th>\n",
       "      <th>funded_amnt_inv</th>\n",
       "      <th>installment</th>\n",
       "      <th>annual_inc</th>\n",
       "      <th>dti</th>\n",
       "      <th>delinq_2yrs</th>\n",
       "      <th>inq_last_6mths</th>\n",
       "      <th>...</th>\n",
       "      <th>total_bal_il</th>\n",
       "      <th>il_util</th>\n",
       "      <th>open_rv_12m</th>\n",
       "      <th>open_rv_24m</th>\n",
       "      <th>max_bal_bc</th>\n",
       "      <th>all_util</th>\n",
       "      <th>total_rev_hi_lim</th>\n",
       "      <th>inq_fi</th>\n",
       "      <th>total_cu_tl</th>\n",
       "      <th>inq_last_12m</th>\n",
       "    </tr>\n",
       "  </thead>\n",
       "  <tbody>\n",
       "    <tr>\n",
       "      <th>count</th>\n",
       "      <td>887383.000000</td>\n",
       "      <td>8.873820e+05</td>\n",
       "      <td>887382.000000</td>\n",
       "      <td>887382.000000</td>\n",
       "      <td>887382.000000</td>\n",
       "      <td>887382.000000</td>\n",
       "      <td>8.873780e+05</td>\n",
       "      <td>887382.00000</td>\n",
       "      <td>887353.000000</td>\n",
       "      <td>887353.000000</td>\n",
       "      <td>...</td>\n",
       "      <td>21372.000000</td>\n",
       "      <td>18617.000000</td>\n",
       "      <td>21372.000000</td>\n",
       "      <td>21372.000000</td>\n",
       "      <td>21372.000000</td>\n",
       "      <td>21372.000000</td>\n",
       "      <td>8.171060e+05</td>\n",
       "      <td>21372.000000</td>\n",
       "      <td>21372.000000</td>\n",
       "      <td>21372.000000</td>\n",
       "    </tr>\n",
       "    <tr>\n",
       "      <th>mean</th>\n",
       "      <td>152155.671062</td>\n",
       "      <td>3.500184e+07</td>\n",
       "      <td>14755.280082</td>\n",
       "      <td>14741.893147</td>\n",
       "      <td>14702.480039</td>\n",
       "      <td>436.717647</td>\n",
       "      <td>7.502761e+04</td>\n",
       "      <td>18.15702</td>\n",
       "      <td>0.314445</td>\n",
       "      <td>0.694622</td>\n",
       "      <td>...</td>\n",
       "      <td>36552.811389</td>\n",
       "      <td>71.535317</td>\n",
       "      <td>1.389060</td>\n",
       "      <td>2.975482</td>\n",
       "      <td>5887.979740</td>\n",
       "      <td>60.831939</td>\n",
       "      <td>3.206868e+04</td>\n",
       "      <td>0.943945</td>\n",
       "      <td>1.537058</td>\n",
       "      <td>1.977307</td>\n",
       "    </tr>\n",
       "    <tr>\n",
       "      <th>std</th>\n",
       "      <td>111089.623731</td>\n",
       "      <td>2.411336e+07</td>\n",
       "      <td>8435.456408</td>\n",
       "      <td>8429.898507</td>\n",
       "      <td>8442.107612</td>\n",
       "      <td>244.186619</td>\n",
       "      <td>6.469823e+04</td>\n",
       "      <td>17.19060</td>\n",
       "      <td>0.862247</td>\n",
       "      <td>0.998447</td>\n",
       "      <td>...</td>\n",
       "      <td>43103.833619</td>\n",
       "      <td>23.022862</td>\n",
       "      <td>1.520129</td>\n",
       "      <td>2.631886</td>\n",
       "      <td>5284.701239</td>\n",
       "      <td>20.013254</td>\n",
       "      <td>3.749833e+04</td>\n",
       "      <td>1.446872</td>\n",
       "      <td>2.723339</td>\n",
       "      <td>2.874067</td>\n",
       "    </tr>\n",
       "    <tr>\n",
       "      <th>min</th>\n",
       "      <td>0.000000</td>\n",
       "      <td>7.047300e+04</td>\n",
       "      <td>500.000000</td>\n",
       "      <td>500.000000</td>\n",
       "      <td>0.000000</td>\n",
       "      <td>15.670000</td>\n",
       "      <td>0.000000e+00</td>\n",
       "      <td>0.00000</td>\n",
       "      <td>0.000000</td>\n",
       "      <td>0.000000</td>\n",
       "      <td>...</td>\n",
       "      <td>0.000000</td>\n",
       "      <td>0.000000</td>\n",
       "      <td>0.000000</td>\n",
       "      <td>0.000000</td>\n",
       "      <td>0.000000</td>\n",
       "      <td>0.000000</td>\n",
       "      <td>0.000000e+00</td>\n",
       "      <td>0.000000</td>\n",
       "      <td>0.000000</td>\n",
       "      <td>-4.000000</td>\n",
       "    </tr>\n",
       "    <tr>\n",
       "      <th>25%</th>\n",
       "      <td>59769.500000</td>\n",
       "      <td>1.087713e+07</td>\n",
       "      <td>8000.000000</td>\n",
       "      <td>8000.000000</td>\n",
       "      <td>8000.000000</td>\n",
       "      <td>260.710000</td>\n",
       "      <td>4.500000e+04</td>\n",
       "      <td>11.91000</td>\n",
       "      <td>0.000000</td>\n",
       "      <td>0.000000</td>\n",
       "      <td>...</td>\n",
       "      <td>10251.500000</td>\n",
       "      <td>58.600000</td>\n",
       "      <td>0.000000</td>\n",
       "      <td>1.000000</td>\n",
       "      <td>2411.000000</td>\n",
       "      <td>47.700000</td>\n",
       "      <td>1.390000e+04</td>\n",
       "      <td>0.000000</td>\n",
       "      <td>0.000000</td>\n",
       "      <td>0.000000</td>\n",
       "    </tr>\n",
       "    <tr>\n",
       "      <th>50%</th>\n",
       "      <td>133718.000000</td>\n",
       "      <td>3.709528e+07</td>\n",
       "      <td>13000.000000</td>\n",
       "      <td>13000.000000</td>\n",
       "      <td>13000.000000</td>\n",
       "      <td>382.550000</td>\n",
       "      <td>6.500000e+04</td>\n",
       "      <td>17.65000</td>\n",
       "      <td>0.000000</td>\n",
       "      <td>0.000000</td>\n",
       "      <td>...</td>\n",
       "      <td>24684.500000</td>\n",
       "      <td>74.900000</td>\n",
       "      <td>1.000000</td>\n",
       "      <td>2.000000</td>\n",
       "      <td>4483.000000</td>\n",
       "      <td>61.900000</td>\n",
       "      <td>2.370000e+04</td>\n",
       "      <td>0.000000</td>\n",
       "      <td>0.000000</td>\n",
       "      <td>2.000000</td>\n",
       "    </tr>\n",
       "    <tr>\n",
       "      <th>75%</th>\n",
       "      <td>217438.500000</td>\n",
       "      <td>5.847135e+07</td>\n",
       "      <td>20000.000000</td>\n",
       "      <td>20000.000000</td>\n",
       "      <td>20000.000000</td>\n",
       "      <td>572.600000</td>\n",
       "      <td>9.000000e+04</td>\n",
       "      <td>23.95000</td>\n",
       "      <td>0.000000</td>\n",
       "      <td>1.000000</td>\n",
       "      <td>...</td>\n",
       "      <td>47858.000000</td>\n",
       "      <td>87.600000</td>\n",
       "      <td>2.000000</td>\n",
       "      <td>4.000000</td>\n",
       "      <td>7771.500000</td>\n",
       "      <td>75.200000</td>\n",
       "      <td>3.980000e+04</td>\n",
       "      <td>1.000000</td>\n",
       "      <td>2.000000</td>\n",
       "      <td>3.000000</td>\n",
       "    </tr>\n",
       "    <tr>\n",
       "      <th>max</th>\n",
       "      <td>421094.000000</td>\n",
       "      <td>7.354484e+07</td>\n",
       "      <td>35000.000000</td>\n",
       "      <td>35000.000000</td>\n",
       "      <td>35000.000000</td>\n",
       "      <td>1445.460000</td>\n",
       "      <td>9.500000e+06</td>\n",
       "      <td>9999.00000</td>\n",
       "      <td>39.000000</td>\n",
       "      <td>33.000000</td>\n",
       "      <td>...</td>\n",
       "      <td>878459.000000</td>\n",
       "      <td>223.300000</td>\n",
       "      <td>22.000000</td>\n",
       "      <td>43.000000</td>\n",
       "      <td>127305.000000</td>\n",
       "      <td>151.400000</td>\n",
       "      <td>9.999999e+06</td>\n",
       "      <td>17.000000</td>\n",
       "      <td>35.000000</td>\n",
       "      <td>32.000000</td>\n",
       "    </tr>\n",
       "  </tbody>\n",
       "</table>\n",
       "<p>8 rows × 49 columns</p>\n",
       "</div>"
      ],
      "text/plain": [
       "               index     member_id      loan_amnt    funded_amnt  \\\n",
       "count  887383.000000  8.873820e+05  887382.000000  887382.000000   \n",
       "mean   152155.671062  3.500184e+07   14755.280082   14741.893147   \n",
       "std    111089.623731  2.411336e+07    8435.456408    8429.898507   \n",
       "min         0.000000  7.047300e+04     500.000000     500.000000   \n",
       "25%     59769.500000  1.087713e+07    8000.000000    8000.000000   \n",
       "50%    133718.000000  3.709528e+07   13000.000000   13000.000000   \n",
       "75%    217438.500000  5.847135e+07   20000.000000   20000.000000   \n",
       "max    421094.000000  7.354484e+07   35000.000000   35000.000000   \n",
       "\n",
       "       funded_amnt_inv    installment    annual_inc           dti  \\\n",
       "count    887382.000000  887382.000000  8.873780e+05  887382.00000   \n",
       "mean      14702.480039     436.717647  7.502761e+04      18.15702   \n",
       "std        8442.107612     244.186619  6.469823e+04      17.19060   \n",
       "min           0.000000      15.670000  0.000000e+00       0.00000   \n",
       "25%        8000.000000     260.710000  4.500000e+04      11.91000   \n",
       "50%       13000.000000     382.550000  6.500000e+04      17.65000   \n",
       "75%       20000.000000     572.600000  9.000000e+04      23.95000   \n",
       "max       35000.000000    1445.460000  9.500000e+06    9999.00000   \n",
       "\n",
       "         delinq_2yrs  inq_last_6mths      ...        total_bal_il  \\\n",
       "count  887353.000000   887353.000000      ...        21372.000000   \n",
       "mean        0.314445        0.694622      ...        36552.811389   \n",
       "std         0.862247        0.998447      ...        43103.833619   \n",
       "min         0.000000        0.000000      ...            0.000000   \n",
       "25%         0.000000        0.000000      ...        10251.500000   \n",
       "50%         0.000000        0.000000      ...        24684.500000   \n",
       "75%         0.000000        1.000000      ...        47858.000000   \n",
       "max        39.000000       33.000000      ...       878459.000000   \n",
       "\n",
       "            il_util   open_rv_12m   open_rv_24m     max_bal_bc      all_util  \\\n",
       "count  18617.000000  21372.000000  21372.000000   21372.000000  21372.000000   \n",
       "mean      71.535317      1.389060      2.975482    5887.979740     60.831939   \n",
       "std       23.022862      1.520129      2.631886    5284.701239     20.013254   \n",
       "min        0.000000      0.000000      0.000000       0.000000      0.000000   \n",
       "25%       58.600000      0.000000      1.000000    2411.000000     47.700000   \n",
       "50%       74.900000      1.000000      2.000000    4483.000000     61.900000   \n",
       "75%       87.600000      2.000000      4.000000    7771.500000     75.200000   \n",
       "max      223.300000     22.000000     43.000000  127305.000000    151.400000   \n",
       "\n",
       "       total_rev_hi_lim        inq_fi   total_cu_tl  inq_last_12m  \n",
       "count      8.171060e+05  21372.000000  21372.000000  21372.000000  \n",
       "mean       3.206868e+04      0.943945      1.537058      1.977307  \n",
       "std        3.749833e+04      1.446872      2.723339      2.874067  \n",
       "min        0.000000e+00      0.000000      0.000000     -4.000000  \n",
       "25%        1.390000e+04      0.000000      0.000000      0.000000  \n",
       "50%        2.370000e+04      0.000000      0.000000      2.000000  \n",
       "75%        3.980000e+04      1.000000      2.000000      3.000000  \n",
       "max        9.999999e+06     17.000000     35.000000     32.000000  \n",
       "\n",
       "[8 rows x 49 columns]"
      ]
     },
     "execution_count": 39,
     "metadata": {},
     "output_type": "execute_result"
    }
   ],
   "source": [
    "loans2.describe()"
   ]
  },
  {
   "cell_type": "code",
   "execution_count": 5,
   "metadata": {},
   "outputs": [
    {
     "data": {
      "text/plain": [
       "0    Jan-2015\n",
       "1    Apr-2013\n",
       "2    Jun-2014\n",
       "3    Jan-2015\n",
       "4    Jan-2016\n",
       "Name: last_pymnt_d, dtype: object"
      ]
     },
     "execution_count": 5,
     "metadata": {},
     "output_type": "execute_result"
    }
   ],
   "source": [
    "loans2.last_pymnt_d.head()"
   ]
  },
  {
   "cell_type": "code",
   "execution_count": 6,
   "metadata": {},
   "outputs": [
    {
     "name": "stdout",
     "output_type": "stream",
     "text": [
      "Charged Off\n",
      "45248\n",
      "Current\n",
      "601781\n",
      "Default\n",
      "1219\n",
      "Does not meet the credit policy. Status:Charged Off\n",
      "761\n",
      "Does not meet the credit policy. Status:Fully Paid\n",
      "1988\n",
      "Fully Paid\n",
      "207724\n",
      "In Grace Period\n",
      "6253\n",
      "Issued\n",
      "8460\n",
      "Late (16-30 days)\n",
      "2357\n",
      "Late (31-120 days)\n",
      "11591\n",
      "None\n",
      "0\n"
     ]
    }
   ],
   "source": [
    "# loan_status will be the target variable. 10 possible classes\n",
    "\n",
    "for status in np.unique(loans2['loan_status'].astype(str)):\n",
    "    print(status)\n",
    "    print(str(len(loans2[loans2['loan_status']==str(status)])))"
   ]
  },
  {
   "cell_type": "markdown",
   "metadata": {},
   "source": [
    "### binary targets labels (loans completed)"
   ]
  },
  {
   "cell_type": "code",
   "execution_count": 7,
   "metadata": {
    "collapsed": true
   },
   "outputs": [],
   "source": [
    "binary_output = ['Fully_Paid','Charged_Off']"
   ]
  },
  {
   "cell_type": "markdown",
   "metadata": {},
   "source": [
    "### multi class target labels (loans in progress)"
   ]
  },
  {
   "cell_type": "code",
   "execution_count": 8,
   "metadata": {
    "collapsed": true
   },
   "outputs": [],
   "source": [
    "# there is somewhat of an ordering here. \n",
    "\n",
    "multi_output = ['Current','Late (16-30 days)','Late (31-120 days)','Default']"
   ]
  },
  {
   "cell_type": "markdown",
   "metadata": {},
   "source": [
    "### experimental exploration (loans about to begin payment)"
   ]
  },
  {
   "cell_type": "code",
   "execution_count": 9,
   "metadata": {
    "collapsed": true
   },
   "outputs": [],
   "source": [
    "exploration = ['Issued','In Grace Period']"
   ]
  },
  {
   "cell_type": "code",
   "execution_count": null,
   "metadata": {
    "collapsed": true
   },
   "outputs": [],
   "source": []
  },
  {
   "cell_type": "code",
   "execution_count": 10,
   "metadata": {},
   "outputs": [
    {
     "data": {
      "text/plain": [
       "dti_joint                      886874\n",
       "verification_status_joint      886872\n",
       "annual_inc_joint               886872\n",
       "il_util                        868766\n",
       "mths_since_rcnt_il             866573\n",
       "all_util                       866011\n",
       "max_bal_bc                     866011\n",
       "open_rv_24m                    866011\n",
       "open_rv_12m                    866011\n",
       "total_cu_tl                    866011\n",
       "total_bal_il                   866011\n",
       "open_il_24m                    866011\n",
       "open_il_12m                    866011\n",
       "open_il_6m                     866011\n",
       "open_acc_6m                    866011\n",
       "inq_fi                         866011\n",
       "inq_last_12m                   866011\n",
       "desc                           761354\n",
       "mths_since_last_record         750330\n",
       "mths_since_last_major_derog    665679\n",
       "mths_since_last_delinq         454314\n",
       "next_pymnt_d                   252973\n",
       "tot_cur_bal                     70277\n",
       "total_rev_hi_lim                70277\n",
       "tot_coll_amt                    70277\n",
       "emp_title                       51458\n",
       "last_pymnt_d                    17660\n",
       "revol_util                        503\n",
       "title                             152\n",
       "collections_12_mths_ex_med        146\n",
       "dtype: int64"
      ]
     },
     "execution_count": 10,
     "metadata": {},
     "output_type": "execute_result"
    }
   ],
   "source": [
    "# drop columns which have > 400k NaN values?\n",
    "# may be able to figure out to fill values for next_pymnt_d (250k missing values)\n",
    "\n",
    "loans2.isnull().sum().sort_values(ascending=False)[:30]"
   ]
  },
  {
   "cell_type": "code",
   "execution_count": 11,
   "metadata": {},
   "outputs": [
    {
     "data": {
      "text/plain": [
       "Index(['index', 'id', 'member_id', 'loan_amnt', 'funded_amnt',\n",
       "       'funded_amnt_inv', 'term', 'int_rate', 'installment', 'grade',\n",
       "       'sub_grade', 'emp_title', 'emp_length', 'home_ownership', 'annual_inc',\n",
       "       'verification_status', 'issue_d', 'loan_status', 'pymnt_plan', 'url',\n",
       "       'desc', 'purpose', 'title', 'zip_code', 'addr_state', 'dti',\n",
       "       'delinq_2yrs', 'earliest_cr_line', 'inq_last_6mths',\n",
       "       'mths_since_last_delinq', 'mths_since_last_record', 'open_acc',\n",
       "       'pub_rec', 'revol_bal', 'revol_util', 'total_acc',\n",
       "       'initial_list_status', 'out_prncp', 'out_prncp_inv', 'total_pymnt',\n",
       "       'total_pymnt_inv', 'total_rec_prncp', 'total_rec_int',\n",
       "       'total_rec_late_fee', 'recoveries', 'collection_recovery_fee',\n",
       "       'last_pymnt_d', 'last_pymnt_amnt', 'next_pymnt_d', 'last_credit_pull_d',\n",
       "       'collections_12_mths_ex_med', 'mths_since_last_major_derog',\n",
       "       'policy_code', 'application_type', 'annual_inc_joint', 'dti_joint',\n",
       "       'verification_status_joint', 'acc_now_delinq', 'tot_coll_amt',\n",
       "       'tot_cur_bal', 'open_acc_6m', 'open_il_6m', 'open_il_12m',\n",
       "       'open_il_24m', 'mths_since_rcnt_il', 'total_bal_il', 'il_util',\n",
       "       'open_rv_12m', 'open_rv_24m', 'max_bal_bc', 'all_util',\n",
       "       'total_rev_hi_lim', 'inq_fi', 'total_cu_tl', 'inq_last_12m'],\n",
       "      dtype='object')"
      ]
     },
     "execution_count": 11,
     "metadata": {},
     "output_type": "execute_result"
    }
   ],
   "source": [
    "loans2.columns"
   ]
  },
  {
   "cell_type": "code",
   "execution_count": 12,
   "metadata": {
    "collapsed": true
   },
   "outputs": [],
   "source": [
    "# note: some of the features below may switch between subsets after processing. e.g. many of date time will become numerical"
   ]
  },
  {
   "cell_type": "code",
   "execution_count": 13,
   "metadata": {
    "collapsed": true
   },
   "outputs": [],
   "source": [
    "# do all specification for subets of data within SQL. use these lists to construct the SQL queries as strings "
   ]
  },
  {
   "cell_type": "markdown",
   "metadata": {},
   "source": [
    "## columns which describe borrower:"
   ]
  },
  {
   "cell_type": "code",
   "execution_count": 14,
   "metadata": {
    "collapsed": true
   },
   "outputs": [],
   "source": [
    "borrower_desc = ['dti','annual_inc','emp_length','delinq_2yrs','inq_last_6mths','mths_since_last_delinq','earliest_cr_line',\n",
    "                'home_ownership','addr_state','open_acc','pub_rec','revol_bal','revol_util','total_acc',\n",
    "                'collections_12_mths_ex_med','mths_since_last_major_derog','acc_now_delinq']"
   ]
  },
  {
   "cell_type": "markdown",
   "metadata": {},
   "source": [
    "## columns which describe loan structure:"
   ]
  },
  {
   "cell_type": "code",
   "execution_count": 15,
   "metadata": {
    "collapsed": true
   },
   "outputs": [],
   "source": [
    "loan_desc = ['funded_amnt','loan_amnt','int_rate','installment','sub_grade','out_prncp','total_pymnt','total_rec_prncp',\n",
    "            'total_rec_int','total_rec_late_fee','recoveries','collection_recovery_fee','last_pymnt_amnt','verification_status',\n",
    "            'pymnt_plan','next_pymnt_d','last_credit_pull_d','last_pymnt_d']"
   ]
  },
  {
   "cell_type": "markdown",
   "metadata": {},
   "source": [
    "### categorical"
   ]
  },
  {
   "cell_type": "code",
   "execution_count": 16,
   "metadata": {
    "collapsed": true
   },
   "outputs": [],
   "source": [
    "categories = ['sub_grade','home_ownership_verification_status','verification_status','pymnt_plan','purpose','addr_state',\n",
    "             'initial_list_status','policy_code','application_type']"
   ]
  },
  {
   "cell_type": "markdown",
   "metadata": {},
   "source": [
    "### date-time"
   ]
  },
  {
   "cell_type": "code",
   "execution_count": 17,
   "metadata": {
    "collapsed": true
   },
   "outputs": [],
   "source": [
    "datetime = ['term','issue_d','earliest_cr_line','next_pymnt_d','last_credit_pull_d','last_pymnt_d']"
   ]
  },
  {
   "cell_type": "markdown",
   "metadata": {},
   "source": [
    "### numerical"
   ]
  },
  {
   "cell_type": "code",
   "execution_count": 18,
   "metadata": {
    "collapsed": true
   },
   "outputs": [],
   "source": [
    "numerical = ['dti','annual_inc','funded_amnt','loan_amnt','funded_amnt_inv','int_rate','installment','sub_grade','emp_length',\n",
    "            'delinq_2yrs','inq_last_6mths','mths_since_last_delinq','open_acc','pub_rec','revol_bal','revol_util','total_acc',\n",
    "            'out_prncp','total_pymnt','total_rec_prncp','total_rec_int','total_rec_late_fee','recoveries',\n",
    "            'collection_recovery_fee','last_pymnt_amnt','collections_12_mths_ex_med','mths_since_last_major_derog',\n",
    "            'acc_now_delinq','tot_coll_amt','total_cur_bal']"
   ]
  },
  {
   "cell_type": "code",
   "execution_count": null,
   "metadata": {
    "collapsed": true
   },
   "outputs": [],
   "source": []
  },
  {
   "cell_type": "code",
   "execution_count": null,
   "metadata": {
    "collapsed": true
   },
   "outputs": [],
   "source": []
  },
  {
   "cell_type": "code",
   "execution_count": 19,
   "metadata": {},
   "outputs": [
    {
     "data": {
      "text/plain": [
       "0    36\n",
       "1    60\n",
       "2    36\n",
       "3    36\n",
       "4    60\n",
       "Name: term, dtype: int64"
      ]
     },
     "execution_count": 19,
     "metadata": {},
     "output_type": "execute_result"
    }
   ],
   "source": [
    "# strange bug not allowing the whole column to be changed, b/c of a single NaN value that wont be removed..\n",
    "\n",
    "loans2['term'] = loans2[loans2['term']!='nan']['term']\n",
    "loans2['term'] = loans2['term'].dropna()\n",
    "\n",
    "import re \n",
    "\n",
    "f = lambda x : int(re.findall(r\"\\D(\\d{2})\\D\",x)[0])\n",
    "\n",
    "loans2['term'].head().apply(f)"
   ]
  },
  {
   "cell_type": "code",
   "execution_count": 20,
   "metadata": {},
   "outputs": [
    {
     "data": {
      "text/plain": [
       "array([' 36 months', ' 60 months', 'nan'], dtype=object)"
      ]
     },
     "execution_count": 20,
     "metadata": {},
     "output_type": "execute_result"
    }
   ],
   "source": [
    "np.unique(loans2['term'].astype(str).values)"
   ]
  },
  {
   "cell_type": "code",
   "execution_count": 21,
   "metadata": {},
   "outputs": [
    {
     "data": {
      "text/plain": [
       "39783     36 months\n",
       "39784     36 months\n",
       "39785     36 months\n",
       "39786           NaN\n",
       "39787     60 months\n",
       "39788     60 months\n",
       "Name: term, dtype: object"
      ]
     },
     "execution_count": 21,
     "metadata": {},
     "output_type": "execute_result"
    }
   ],
   "source": [
    "# dropna not dropping a single NaN...weird bug\n",
    "\n",
    "loans2['term'][39783:39789]"
   ]
  },
  {
   "cell_type": "code",
   "execution_count": 22,
   "metadata": {},
   "outputs": [
    {
     "data": {
      "text/plain": [
       "0     5863.32\n",
       "1     3589.80\n",
       "2     3035.88\n",
       "3    12215.16\n",
       "4     4067.40\n",
       "dtype: float64"
      ]
     },
     "execution_count": 22,
     "metadata": {},
     "output_type": "execute_result"
    }
   ],
   "source": [
    "# example \"total loan repayment\"\n",
    "# it seems the last installment is probably partial, no need for this feature engineering..just use total pymnt\n",
    "\n",
    "loans2['installment'].head()*loans2['term'].head().apply(f)"
   ]
  },
  {
   "cell_type": "code",
   "execution_count": 23,
   "metadata": {},
   "outputs": [
    {
     "data": {
      "text/plain": [
       "0    17.2664\n",
       "1    43.5920\n",
       "2    26.4950\n",
       "3    22.1516\n",
       "4    35.5800\n",
       "dtype: float64"
      ]
     },
     "execution_count": 23,
     "metadata": {},
     "output_type": "execute_result"
    }
   ],
   "source": [
    "# example \"total net % return\" (over entire life of loan)\n",
    "\n",
    "((loans2['installment'].head()*loans2['term'].head().apply(f))/loans2['funded_amnt'].head() - 1)*100"
   ]
  },
  {
   "cell_type": "code",
   "execution_count": 24,
   "metadata": {},
   "outputs": [
    {
     "data": {
      "text/plain": [
       "array(['Charged Off', 'Current', 'Default',\n",
       "       'Does not meet the credit policy. Status:Charged Off',\n",
       "       'Does not meet the credit policy. Status:Fully Paid', 'Fully Paid',\n",
       "       'In Grace Period', 'Issued', 'Late (16-30 days)',\n",
       "       'Late (31-120 days)'], dtype=object)"
      ]
     },
     "execution_count": 24,
     "metadata": {},
     "output_type": "execute_result"
    }
   ],
   "source": [
    "np.unique(loans2['loan_status'].dropna())"
   ]
  },
  {
   "cell_type": "markdown",
   "metadata": {},
   "source": [
    "## FULLY PAID"
   ]
  },
  {
   "cell_type": "code",
   "execution_count": 47,
   "metadata": {
    "collapsed": true
   },
   "outputs": [],
   "source": [
    "# specify this in SQL in the actual project\n",
    "\n",
    "fully_paid = loans2[loans2['loan_status']=='Fully Paid']"
   ]
  },
  {
   "cell_type": "code",
   "execution_count": 48,
   "metadata": {},
   "outputs": [
    {
     "data": {
      "text/html": [
       "<div>\n",
       "<table border=\"1\" class=\"dataframe\">\n",
       "  <thead>\n",
       "    <tr style=\"text-align: right;\">\n",
       "      <th></th>\n",
       "      <th>funded_amnt</th>\n",
       "      <th>int_rate</th>\n",
       "      <th>term</th>\n",
       "      <th>installment</th>\n",
       "      <th>last_pymnt_amnt</th>\n",
       "      <th>total_rec_prncp</th>\n",
       "      <th>total_rec_late_fee</th>\n",
       "      <th>total_rec_int</th>\n",
       "      <th>total_pymnt</th>\n",
       "    </tr>\n",
       "  </thead>\n",
       "  <tbody>\n",
       "    <tr>\n",
       "      <th>0</th>\n",
       "      <td>5000.0</td>\n",
       "      <td>10.65%</td>\n",
       "      <td>36 months</td>\n",
       "      <td>162.87</td>\n",
       "      <td>171.62</td>\n",
       "      <td>5000.0</td>\n",
       "      <td>0.00</td>\n",
       "      <td>861.07</td>\n",
       "      <td>5861.071414</td>\n",
       "    </tr>\n",
       "    <tr>\n",
       "      <th>2</th>\n",
       "      <td>2400.0</td>\n",
       "      <td>15.96%</td>\n",
       "      <td>36 months</td>\n",
       "      <td>84.33</td>\n",
       "      <td>649.91</td>\n",
       "      <td>2400.0</td>\n",
       "      <td>0.00</td>\n",
       "      <td>603.65</td>\n",
       "      <td>3003.653644</td>\n",
       "    </tr>\n",
       "    <tr>\n",
       "      <th>3</th>\n",
       "      <td>10000.0</td>\n",
       "      <td>13.49%</td>\n",
       "      <td>36 months</td>\n",
       "      <td>339.31</td>\n",
       "      <td>357.48</td>\n",
       "      <td>10000.0</td>\n",
       "      <td>16.97</td>\n",
       "      <td>2209.33</td>\n",
       "      <td>12226.302212</td>\n",
       "    </tr>\n",
       "    <tr>\n",
       "      <th>5</th>\n",
       "      <td>5000.0</td>\n",
       "      <td>7.90%</td>\n",
       "      <td>36 months</td>\n",
       "      <td>156.46</td>\n",
       "      <td>161.03</td>\n",
       "      <td>5000.0</td>\n",
       "      <td>0.00</td>\n",
       "      <td>631.38</td>\n",
       "      <td>5631.377753</td>\n",
       "    </tr>\n",
       "    <tr>\n",
       "      <th>7</th>\n",
       "      <td>3000.0</td>\n",
       "      <td>18.64%</td>\n",
       "      <td>36 months</td>\n",
       "      <td>109.43</td>\n",
       "      <td>111.34</td>\n",
       "      <td>3000.0</td>\n",
       "      <td>0.00</td>\n",
       "      <td>938.14</td>\n",
       "      <td>3938.144334</td>\n",
       "    </tr>\n",
       "  </tbody>\n",
       "</table>\n",
       "</div>"
      ],
      "text/plain": [
       "   funded_amnt int_rate        term  installment  last_pymnt_amnt  \\\n",
       "0       5000.0   10.65%   36 months       162.87           171.62   \n",
       "2       2400.0   15.96%   36 months        84.33           649.91   \n",
       "3      10000.0   13.49%   36 months       339.31           357.48   \n",
       "5       5000.0    7.90%   36 months       156.46           161.03   \n",
       "7       3000.0   18.64%   36 months       109.43           111.34   \n",
       "\n",
       "   total_rec_prncp  total_rec_late_fee  total_rec_int   total_pymnt  \n",
       "0           5000.0                0.00         861.07   5861.071414  \n",
       "2           2400.0                0.00         603.65   3003.653644  \n",
       "3          10000.0               16.97        2209.33  12226.302212  \n",
       "5           5000.0                0.00         631.38   5631.377753  \n",
       "7           3000.0                0.00         938.14   3938.144334  "
      ]
     },
     "execution_count": 48,
     "metadata": {},
     "output_type": "execute_result"
    }
   ],
   "source": [
    "fully_paid[['funded_amnt','int_rate','term','installment','last_pymnt_amnt',\n",
    "            'total_rec_prncp','total_rec_late_fee','total_rec_int','total_pymnt']].head()"
   ]
  },
  {
   "cell_type": "code",
   "execution_count": 49,
   "metadata": {},
   "outputs": [
    {
     "data": {
      "text/plain": [
       "0    1.172214\n",
       "2    1.251522\n",
       "3    1.222630\n",
       "5    1.126276\n",
       "7    1.312715\n",
       "dtype: float64"
      ]
     },
     "execution_count": 49,
     "metadata": {},
     "output_type": "execute_result"
    }
   ],
   "source": [
    "# net return over lifetime of loan\n",
    "\n",
    "(fully_paid['total_pymnt']/fully_paid['funded_amnt']).head()"
   ]
  },
  {
   "cell_type": "markdown",
   "metadata": {},
   "source": [
    "## CHARGED OFF"
   ]
  },
  {
   "cell_type": "code",
   "execution_count": 50,
   "metadata": {
    "collapsed": true
   },
   "outputs": [],
   "source": [
    "charged_off = loans2[loans2['loan_status']=='Charged Off']"
   ]
  },
  {
   "cell_type": "code",
   "execution_count": 51,
   "metadata": {},
   "outputs": [
    {
     "data": {
      "text/html": [
       "<div>\n",
       "<table border=\"1\" class=\"dataframe\">\n",
       "  <thead>\n",
       "    <tr style=\"text-align: right;\">\n",
       "      <th></th>\n",
       "      <th>funded_amnt</th>\n",
       "      <th>recoveries</th>\n",
       "    </tr>\n",
       "  </thead>\n",
       "  <tbody>\n",
       "    <tr>\n",
       "      <th>1</th>\n",
       "      <td>2500.0</td>\n",
       "      <td>117.08</td>\n",
       "    </tr>\n",
       "    <tr>\n",
       "      <th>8</th>\n",
       "      <td>5600.0</td>\n",
       "      <td>189.06</td>\n",
       "    </tr>\n",
       "    <tr>\n",
       "      <th>9</th>\n",
       "      <td>5375.0</td>\n",
       "      <td>269.29</td>\n",
       "    </tr>\n",
       "    <tr>\n",
       "      <th>12</th>\n",
       "      <td>9000.0</td>\n",
       "      <td>444.30</td>\n",
       "    </tr>\n",
       "    <tr>\n",
       "      <th>14</th>\n",
       "      <td>10000.0</td>\n",
       "      <td>645.10</td>\n",
       "    </tr>\n",
       "  </tbody>\n",
       "</table>\n",
       "</div>"
      ],
      "text/plain": [
       "    funded_amnt  recoveries\n",
       "1        2500.0      117.08\n",
       "8        5600.0      189.06\n",
       "9        5375.0      269.29\n",
       "12       9000.0      444.30\n",
       "14      10000.0      645.10"
      ]
     },
     "execution_count": 51,
     "metadata": {},
     "output_type": "execute_result"
    }
   ],
   "source": [
    "charged_off[['funded_amnt','recoveries']].head()"
   ]
  },
  {
   "cell_type": "markdown",
   "metadata": {},
   "source": [
    "## example code to write the pre-processed (clean) data to a table in the SQL database"
   ]
  },
  {
   "cell_type": "code",
   "execution_count": 52,
   "metadata": {
    "collapsed": true
   },
   "outputs": [],
   "source": [
    "# conn = sqlite3.connect(os.getcwd()+'\\data\\lending-club-loan-data\\database2.sqlite')\n",
    "# cursor = conn.cursor()\n",
    "# example_df.to_sql('example_table_name',conn)\n",
    "# tables = pd.DataFrame(cursor.execute('SELECT * FROM SQLITE_MASTER').fetchall())\n",
    "# conn.close()"
   ]
  },
  {
   "cell_type": "code",
   "execution_count": null,
   "metadata": {
    "collapsed": true
   },
   "outputs": [],
   "source": []
  }
 ],
 "metadata": {
  "kernelspec": {
   "display_name": "Python 3",
   "language": "python",
   "name": "python3"
  },
  "language_info": {
   "codemirror_mode": {
    "name": "ipython",
    "version": 3
   },
   "file_extension": ".py",
   "mimetype": "text/x-python",
   "name": "python",
   "nbconvert_exporter": "python",
   "pygments_lexer": "ipython3",
   "version": "3.6.0"
  }
 },
 "nbformat": 4,
 "nbformat_minor": 2
}
