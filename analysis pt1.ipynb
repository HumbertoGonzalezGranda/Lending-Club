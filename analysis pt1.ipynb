{
 "cells": [
  {
   "cell_type": "code",
   "execution_count": 1,
   "metadata": {
    "collapsed": true
   },
   "outputs": [],
   "source": [
    "import pandas as pd\n",
    "import numpy as np\n",
    "import matplotlib.pyplot as plt\n",
    "import seaborn as sns\n",
    "import sqlite3\n",
    "\n",
    "%matplotlib inline\n",
    "sns.set_style('whitegrid')"
   ]
  },
  {
   "cell_type": "code",
   "execution_count": 2,
   "metadata": {
    "collapsed": true
   },
   "outputs": [],
   "source": [
    "def select(query):\n",
    "    \n",
    "    conn = sqlite3.connect('./data/lending-club-loan-data/database2.sqlite')\n",
    "    cursor = conn.cursor()\n",
    "    temp_df = pd.DataFrame(cursor.execute(query).fetchall())\n",
    "    temp_df.columns = list(map(lambda x: x[0], cursor.description))\n",
    "    conn.close()\n",
    "    \n",
    "    return temp_df.copy()"
   ]
  },
  {
   "cell_type": "code",
   "execution_count": 3,
   "metadata": {},
   "outputs": [],
   "source": [
    "loans = select('SELECT * FROM LOAN_FINAL')\n",
    "loans = loans.drop('index',axis=1)"
   ]
  },
  {
   "cell_type": "code",
   "execution_count": 4,
   "metadata": {
    "collapsed": true
   },
   "outputs": [],
   "source": [
    "# separating the data into the first general problem at hand: \"Completed Loans\" \n",
    "\n",
    "loans = loans[(loans['loan_status']=='Charged Off') | (loans['loan_status']=='Fully Paid')].copy()\n",
    "features = loans.drop('loan_status',axis=1).copy()\n",
    "targets = loans['loan_status'].copy()"
   ]
  },
  {
   "cell_type": "code",
   "execution_count": 5,
   "metadata": {
    "collapsed": true
   },
   "outputs": [],
   "source": [
    "# split up features into numerical and non-numerical values\n",
    "\n",
    "numerical = []\n",
    "strings = []\n",
    "\n",
    "for i in range(len(loans.dtypes)):\n",
    "    if (loans.dtypes[i] == 'int64') or (loans.dtypes[i] == 'float64'):\n",
    "        numerical = numerical + [loans.dtypes.index[i]]\n",
    "        \n",
    "    if (loans.dtypes[i] == 'O') and (loans.dtypes.index[i]!='loan_status'):\n",
    "        strings = strings + [loans.dtypes.index[i]]"
   ]
  },
  {
   "cell_type": "code",
   "execution_count": 6,
   "metadata": {
    "collapsed": true
   },
   "outputs": [],
   "source": [
    "numerical_all = list(numerical)"
   ]
  },
  {
   "cell_type": "code",
   "execution_count": 7,
   "metadata": {
    "collapsed": true
   },
   "outputs": [],
   "source": [
    "# contain NaN values need to figure out how to translate the meaning implied by NaN in these columns\n",
    "# member_id has no predictive value\n",
    "# removing features containing values which may not be known at time of loan origination (otherwise problem is trivial)\n",
    "# last three are unnecessary from this problem's standpoint\n",
    "\n",
    "numerical_all.remove('mths_since_last_delinq')\n",
    "numerical_all.remove('mths_since_last_major_derog')\n",
    "numerical_all.remove('member_id')\n",
    "\n",
    "numerical.remove('mths_since_last_delinq')\n",
    "numerical.remove('mths_since_last_major_derog')\n",
    "numerical.remove('member_id')\n",
    "numerical.remove('delinq_2yrs')\n",
    "numerical.remove('inq_last_6mths')\n",
    "numerical.remove('out_prncp')\n",
    "numerical.remove('out_prncp_inv')\n",
    "numerical.remove('total_pymnt')\n",
    "numerical.remove('total_pymnt_inv')\n",
    "numerical.remove('total_rec_prncp')\n",
    "numerical.remove('total_rec_int')\n",
    "numerical.remove('total_rec_late_fee')\n",
    "numerical.remove('recoveries')\n",
    "numerical.remove('collection_recovery_fee')\n",
    "numerical.remove('last_pymnt_amnt')\n",
    "numerical.remove('collections_12_mths_ex_med')\n",
    "numerical.remove('tot_coll_amt')\n",
    "numerical.remove('mths_since_issue')\n",
    "numerical.remove('mths_left')\n",
    "numerical.remove('%_term_completed')"
   ]
  },
  {
   "cell_type": "code",
   "execution_count": 8,
   "metadata": {},
   "outputs": [
    {
     "name": "stdout",
     "output_type": "stream",
     "text": [
      "['loan_amnt', 'funded_amnt', 'funded_amnt_inv', 'term', 'int_rate', 'installment', 'grade', 'emp_length', 'annual_inc', 'dti', 'open_acc', 'pub_rec', 'revol_bal', 'revol_util', 'total_acc', 'policy_code', 'acc_now_delinq']\n"
     ]
    }
   ],
   "source": [
    "print(numerical)"
   ]
  },
  {
   "cell_type": "code",
   "execution_count": 9,
   "metadata": {
    "collapsed": true
   },
   "outputs": [],
   "source": [
    "outputmap = {'Charged Off':0,'Fully Paid':1}\n",
    "targets = targets.apply(lambda x: outputmap[x])"
   ]
  },
  {
   "cell_type": "code",
   "execution_count": 10,
   "metadata": {},
   "outputs": [
    {
     "data": {
      "text/plain": [
       "0.99760272615604073"
      ]
     },
     "execution_count": 10,
     "metadata": {},
     "output_type": "execute_result"
    }
   ],
   "source": [
    "# - ASIDE -\n",
    "\n",
    "# model performs extremely well when using all features. need to strip away those that give obvious\n",
    "# 'hints' to our model about whether the loan will be charged off. (e.g. recoveries, collection recovery fee, etc..)\n",
    "# otherwise the problem is fairly trivial...we no longer consider this case\n",
    "# remove revol_util and tot_coll_amt... these cols have NaN values that will be filled on the actual model\n",
    "\n",
    "numerical_all.remove('revol_util')\n",
    "numerical_all.remove('tot_coll_amt')\n",
    "\n",
    "from sklearn.model_selection import train_test_split\n",
    "from sklearn.linear_model import LogisticRegression\n",
    "from sklearn.metrics import accuracy_score\n",
    "\n",
    "features_train, features_test, targets_train, targets_test = \\\n",
    "    train_test_split(features,targets,random_state=10,test_size=0.2)\n",
    "    \n",
    "lr_all = LogisticRegression()\n",
    "lr_all.fit(features_train[numerical_all],targets_train)\n",
    "accuracy_score(lr_all.predict(features_test[numerical_all]),targets_test)\n",
    "accuracy_score(lr_all.predict(features_test[numerical_all]),targets_test)"
   ]
  },
  {
   "cell_type": "code",
   "execution_count": 11,
   "metadata": {},
   "outputs": [],
   "source": [
    "# groups dataset into categorically similar subsets and gathers their means for value filling\n",
    "# this function is specific to this application..may be worth further generalizing\n",
    "\n",
    "def NaN_estimator(dataframe,column):\n",
    "    \n",
    "    filled_dataframe = dataframe.copy()\n",
    "\n",
    "    datasubset = dataframe[['grade','home_ownership','initial_list_status','purpose',column]].copy()\n",
    "    means = datasubset.groupby(by=['grade','home_ownership','initial_list_status','purpose']).mean()\n",
    "\n",
    "    subset_estimates = []\n",
    "\n",
    "    for i in dataframe[dataframe[column].isnull()].index:\n",
    "    \n",
    "        tuple_temp = (dataframe.loc[i,'grade'],dataframe.loc[i,'home_ownership'],\n",
    "                      dataframe.loc[i,'initial_list_status'],dataframe.loc[i,'purpose'])\n",
    "    \n",
    "        subset_estimates = subset_estimates + [means.loc[tuple_temp,column]]\n",
    "    \n",
    "    filled_dataframe.loc[list(dataframe[dataframe[column].isnull()].index),column] = subset_estimates\n",
    "    \n",
    "    return filled_dataframe.copy()"
   ]
  },
  {
   "cell_type": "code",
   "execution_count": 12,
   "metadata": {
    "collapsed": true
   },
   "outputs": [],
   "source": [
    "# use the mean of a a more general (\"less similar\") subset for remaining null values which have no\n",
    "# other filled data points in the same subset to estimate from. \n",
    "# we can incorporate this process into the function, and take better means\n",
    "\n",
    "features_train = NaN_estimator(features_train,'revol_util')\n",
    "features_train[features_train.revol_util.isnull()] = features_train.revol_util.mean()\n",
    "\n",
    "features_test = NaN_estimator(features_test,'revol_util')\n",
    "features_test[features_test.revol_util.isnull()] = features_test.revol_util.mean()"
   ]
  },
  {
   "cell_type": "code",
   "execution_count": 13,
   "metadata": {
    "collapsed": true
   },
   "outputs": [],
   "source": [
    "# there remain 3000 null values. again, use a more general avergae\n",
    "\n",
    "features_train = NaN_estimator(features_train,'tot_coll_amt')\n",
    "features_train[features_train.tot_coll_amt.isnull()] = features_train.tot_coll_amt.mean()\n",
    "\n",
    "features_test = NaN_estimator(features_test,'tot_coll_amt')\n",
    "features_test[features_test.tot_coll_amt.isnull()] = features_test.tot_coll_amt.mean()"
   ]
  },
  {
   "cell_type": "code",
   "execution_count": 14,
   "metadata": {},
   "outputs": [
    {
     "data": {
      "text/plain": [
       "0.82149225343741328"
      ]
     },
     "execution_count": 14,
     "metadata": {},
     "output_type": "execute_result"
    }
   ],
   "source": [
    "# baseline score using limited features -- only those which could be known at time of loan origination\n",
    "# this problem is less trivial and provides a better baseline\n",
    "\n",
    "lr = LogisticRegression()\n",
    "lr.fit(features_train[numerical],targets_train)\n",
    "accuracy_score(lr.predict(features_test[numerical]),targets_test)"
   ]
  },
  {
   "cell_type": "code",
   "execution_count": 15,
   "metadata": {},
   "outputs": [
    {
     "name": "stdout",
     "output_type": "stream",
     "text": [
      "TRAIN             precision    recall  f1-score   support\n",
      "\n",
      "          0       0.42      0.00      0.00     35714\n",
      "          1       0.82      1.00      0.90    166180\n",
      "\n",
      "avg / total       0.75      0.82      0.74    201894\n",
      "\n",
      "TEST             precision    recall  f1-score   support\n",
      "\n",
      "          0       0.31      0.00      0.00      8995\n",
      "          1       0.82      1.00      0.90     41479\n",
      "\n",
      "avg / total       0.73      0.82      0.74     50474\n",
      "\n"
     ]
    }
   ],
   "source": [
    "# precision on the negative cases is fairly bad on both the training and test sets\n",
    "# recall is very good on the positive cases on both the training and test sets\n",
    "\n",
    "# seems the model is very good at correctly predicting positive cases, but is excessively likely to predict inputs as positive\n",
    "# (this is evident by the relatively lower precision)\n",
    "\n",
    "from sklearn.metrics import classification_report\n",
    "\n",
    "print('TRAIN'+classification_report(targets_train,lr.predict(features_train[numerical])))\n",
    "print('TEST'+classification_report(targets_test,lr.predict(features_test[numerical])))"
   ]
  },
  {
   "cell_type": "code",
   "execution_count": 16,
   "metadata": {},
   "outputs": [
    {
     "data": {
      "text/plain": [
       "0.0024640197121576974"
      ]
     },
     "execution_count": 16,
     "metadata": {},
     "output_type": "execute_result"
    }
   ],
   "source": [
    "# the true negative rate is extremely low. however, the model's precision on negative cases is a lot higher (33%)\n",
    "# it seems the model rarely outputs negative cases..and when it does, it's still only correct a third of the time\n",
    "\n",
    "from sklearn.metrics import confusion_matrix\n",
    "\n",
    "tn, fp, fn, tp = confusion_matrix(targets_train,lr.predict(features_train[numerical])).ravel()\n",
    "TNR = tn/len(targets_train[targets_train==0])\n",
    "TNR"
   ]
  },
  {
   "cell_type": "code",
   "execution_count": 17,
   "metadata": {
    "collapsed": true
   },
   "outputs": [],
   "source": [
    "## vv all in training set below"
   ]
  },
  {
   "cell_type": "code",
   "execution_count": 18,
   "metadata": {},
   "outputs": [
    {
     "name": "stdout",
     "output_type": "stream",
     "text": [
      "166056\n",
      "201682\n"
     ]
    }
   ],
   "source": [
    "# the model predicts 201k cases as negative, of which 166k were correct. thus precision is ~82% on positive cases\n",
    "\n",
    "print(tp)\n",
    "print(sum(lr.predict(features_train[numerical])))"
   ]
  },
  {
   "cell_type": "code",
   "execution_count": 19,
   "metadata": {},
   "outputs": [
    {
     "name": "stdout",
     "output_type": "stream",
     "text": [
      "166056\n",
      "166180\n"
     ]
    }
   ],
   "source": [
    "# the model \"detects\" (recalls) almost 100% of the positive cases\n",
    "\n",
    "print(tp)\n",
    "print(len(targets_train[targets_train==1]))"
   ]
  },
  {
   "cell_type": "code",
   "execution_count": 20,
   "metadata": {},
   "outputs": [
    {
     "name": "stdout",
     "output_type": "stream",
     "text": [
      "88\n",
      "212\n"
     ]
    }
   ],
   "source": [
    "# the model predicts 171 cases as negative, of which 56 were correct. thus precision is ~33% on negative cases\n",
    "\n",
    "print(tn)\n",
    "print(sum(((lr.predict(features_train[numerical])-1)*-1)))"
   ]
  },
  {
   "cell_type": "code",
   "execution_count": 21,
   "metadata": {},
   "outputs": [
    {
     "name": "stdout",
     "output_type": "stream",
     "text": [
      "88\n",
      "35714\n"
     ]
    }
   ],
   "source": [
    "# the model \"detects\" (recalls) close to 0% of the negative cases\n",
    "\n",
    "print(tn)\n",
    "print(len(targets_train[targets_train==0]))"
   ]
  },
  {
   "cell_type": "code",
   "execution_count": 22,
   "metadata": {
    "collapsed": true
   },
   "outputs": [],
   "source": [
    "# conclusion: the model appears to perform well because there are an excessive number of positive cases in the data set.\n",
    "# the model outputs positive predictions often and does it well, but misses much of the negative cases"
   ]
  },
  {
   "cell_type": "code",
   "execution_count": 25,
   "metadata": {},
   "outputs": [
    {
     "data": {
      "text/plain": [
       "Text(0.5,0,'dti')"
      ]
     },
     "execution_count": 25,
     "metadata": {},
     "output_type": "execute_result"
    },
    {
     "data": {
      "image/png": "[encoded data removed]",
      "text/plain": [
       "<matplotlib.figure.Figure at 0x264d6867860>"
      ]
     },
     "metadata": {},
     "output_type": "display_data"
    }
   ],
   "source": [
    "# no two features alone seem to give reliable predictive utility.. orange/blue points are always intermeshed\n",
    "\n",
    "features = ['dti','annual_inc']\n",
    "\n",
    "charged_off_sample = loans[loans.loan_status=='Charged Off'][features].sample(1500)\n",
    "fully_paid_sample = loans[loans.loan_status=='Fully Paid'][features].sample(1500)\n",
    "\n",
    "fig, ax = plt.subplots(1,1,figsize=(6,6))\n",
    "\n",
    "ax.scatter(charged_off_sample[features[0]],charged_off_sample[features[1]],alpha=0.2)\n",
    "ax.scatter(fully_paid_sample[features[0]],fully_paid_sample[features[1]],alpha=0.2)\n",
    "ax.set_ylabel(features[1],fontsize=14)\n",
    "ax.set_xlabel(features[0],fontsize=14)"
   ]
  }
 ],
 "metadata": {
  "kernelspec": {
   "display_name": "Python 3",
   "language": "python",
   "name": "python3"
  },
  "language_info": {
   "codemirror_mode": {
    "name": "ipython",
    "version": 3
   },
   "file_extension": ".py",
   "mimetype": "text/x-python",
   "name": "python",
   "nbconvert_exporter": "python",
   "pygments_lexer": "ipython3",
   "version": "3.6.3"
  }
 },
 "nbformat": 4,
 "nbformat_minor": 2
}
