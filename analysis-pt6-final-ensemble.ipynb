{
 "cells": [
  {
   "cell_type": "code",
   "execution_count": 1,
   "metadata": {
    "collapsed": true
   },
   "outputs": [],
   "source": [
    "import numpy as np\n",
    "import pandas as pd\n",
    "import sqlite3\n",
    "import matplotlib.pyplot as plt\n",
    "\n",
    "%matplotlib inline\n",
    "plt.style.use('ggplot')"
   ]
  },
  {
   "cell_type": "code",
   "execution_count": 2,
   "metadata": {
    "collapsed": true
   },
   "outputs": [],
   "source": [
    "def select(query):\n",
    "    \n",
    "    conn = sqlite3.connect('./data/lending-club-loan-data/database2.sqlite')\n",
    "    cursor = conn.cursor()\n",
    "    temp_df = pd.DataFrame(cursor.execute(query).fetchall())\n",
    "    temp_df.columns = list(map(lambda x: x[0], cursor.description))\n",
    "    conn.close()\n",
    "    \n",
    "    return temp_df.copy()"
   ]
  },
  {
   "cell_type": "code",
   "execution_count": 57,
   "metadata": {
    "collapsed": true
   },
   "outputs": [],
   "source": [
    "from sklearn.linear_model import LogisticRegression\n",
    "from sklearn.naive_bayes import GaussianNB\n",
    "from sklearn.neighbors import KNeighborsClassifier\n",
    "from sklearn.ensemble import RandomForestClassifier\n",
    "\n",
    "from imblearn.under_sampling import RandomUnderSampler\n",
    "from imblearn.over_sampling import SMOTE\n",
    "from imblearn.over_sampling import ADASYN\n",
    "\n",
    "from sklearn.metrics import classification_report\n",
    "from sklearn.metrics import accuracy_score\n",
    "from sklearn.metrics import confusion_matrix"
   ]
  },
  {
   "cell_type": "code",
   "execution_count": 4,
   "metadata": {
    "collapsed": true
   },
   "outputs": [],
   "source": [
    "# 1: non-clustered categories\n",
    "#2: clustered categories\n",
    "\n",
    "features_train1 = select('select * from final_cat_features_train')\n",
    "features_test1 = select('select * from final_cat_features_test')\n",
    "\n",
    "features_train2 = select('select * from final_cluster_features_train')\n",
    "features_test2 = select('select * from final_cluster_features_test')\n",
    "\n",
    "targets_train = select('select * from final_targets_train')\n",
    "targets_test = select('select * from final_targets_test')"
   ]
  },
  {
   "cell_type": "code",
   "execution_count": 5,
   "metadata": {},
   "outputs": [
    {
     "name": "stdout",
     "output_type": "stream",
     "text": [
      "201894\n",
      "201894\n",
      "201894\n",
      "50474\n",
      "50474\n",
      "50474\n"
     ]
    }
   ],
   "source": [
    "# the alternative feature matrices differ only in how the categorical information is represented. we will use different\n",
    "# training sets for different algorithms, based on which combinations seem to work best.\n",
    "\n",
    "print(len(features_train1))\n",
    "print(len(features_train2))\n",
    "print(len(targets_train))\n",
    "\n",
    "print(len(features_test1))\n",
    "print(len(features_test2))\n",
    "print(len(targets_test))"
   ]
  },
  {
   "cell_type": "code",
   "execution_count": 6,
   "metadata": {
    "collapsed": true
   },
   "outputs": [],
   "source": [
    "# for logistic regression: use SMOTE with 1:1 ratio. use non-clustered categories\n",
    "\n",
    "LR_ratio = {0:targets_train.loan_status.sum(),\n",
    "            1:targets_train.loan_status.sum()}\n",
    "\n",
    "LR_features, LR_targets = SMOTE(ratio=LR_ratio,random_state=2).fit_sample(features_train1,targets_train.loan_status)"
   ]
  },
  {
   "cell_type": "code",
   "execution_count": 7,
   "metadata": {
    "collapsed": true
   },
   "outputs": [],
   "source": [
    "# for gaussian naive bayes: use ADASYN with 1:1 ratio. use clustered categories\n",
    "\n",
    "GNB_ratio = {0:targets_train.loan_status.sum(),\n",
    "             1:targets_train.loan_status.sum()}\n",
    "\n",
    "GNB_features, GNB_targets = ADASYN(ratio=GNB_ratio,random_state=3).fit_sample(features_train2,targets_train.loan_status)"
   ]
  },
  {
   "cell_type": "code",
   "execution_count": 8,
   "metadata": {
    "collapsed": true
   },
   "outputs": [],
   "source": [
    "# for K-NN: use ADASYN with 1:1 ratio. use clustered categories (use a different random state than GNB)\n",
    "\n",
    "KNN_ratio = {0:targets_train.loan_status.sum(),\n",
    "             1:targets_train.loan_status.sum()}\n",
    "\n",
    "KNN_features, KNN_targets = ADASYN(ratio=KNN_ratio,random_state=4).fit_sample(features_train2,targets_train.loan_status)"
   ]
  },
  {
   "cell_type": "code",
   "execution_count": 9,
   "metadata": {
    "collapsed": true
   },
   "outputs": [],
   "source": [
    "# for random forest: use under sampling with 13:10 ratio. use clustered categories\n",
    "\n",
    "RF_ratio = {0:(-(targets_train-1).loan_status.sum()),\n",
    "            1:int((-(targets_train-1).loan_status.sum())/(1.3))}\n",
    "\n",
    "RF_features, RF_targets = RandomUnderSampler(ratio=RF_ratio,random_state=5).fit_sample(features_train2,targets_train.loan_status)"
   ]
  },
  {
   "cell_type": "code",
   "execution_count": 10,
   "metadata": {
    "collapsed": true
   },
   "outputs": [],
   "source": [
    "# LR: no hyperparameter adjustment (negligible effects)\n",
    "# GNB: no hyperparameter adjustment (resampling is already done..this would be redundant)\n",
    "# k-NN: use 30 neighbors\n",
    "# RF: use 80 trees\n",
    "\n",
    "LR = LogisticRegression().fit(LR_features,LR_targets)\n",
    "GNB = GaussianNB().fit(GNB_features,GNB_targets)\n",
    "KNN = KNeighborsClassifier(n_neighbors=30).fit(KNN_features,KNN_targets)\n",
    "RF = RandomForestClassifier(n_estimators=80).fit(RF_features,RF_targets)"
   ]
  },
  {
   "cell_type": "code",
   "execution_count": 11,
   "metadata": {},
   "outputs": [
    {
     "name": "stdout",
     "output_type": "stream",
     "text": [
      "LR TRAIN\n",
      "             precision    recall  f1-score   support\n",
      "\n",
      "          0       0.28      0.62      0.38     35905\n",
      "          1       0.89      0.65      0.75    165989\n",
      "\n",
      "avg / total       0.78      0.64      0.68    201894\n",
      "\n",
      "GNB TRAIN\n",
      "             precision    recall  f1-score   support\n",
      "\n",
      "          0       0.22      0.81      0.34     35905\n",
      "          1       0.90      0.37      0.52    165989\n",
      "\n",
      "avg / total       0.78      0.45      0.49    201894\n",
      "\n",
      "k-NN TRAIN\n",
      "             precision    recall  f1-score   support\n",
      "\n",
      "          0       0.27      0.32      0.29     35905\n",
      "          1       0.85      0.81      0.83    165989\n",
      "\n",
      "avg / total       0.74      0.72      0.73    201894\n",
      "\n",
      "RF TRAIN\n",
      "             precision    recall  f1-score   support\n",
      "\n",
      "          0       0.33      1.00      0.50     35905\n",
      "          1       1.00      0.57      0.72    165989\n",
      "\n",
      "avg / total       0.88      0.64      0.68    201894\n",
      "\n"
     ]
    }
   ],
   "source": [
    "# individual performances on their respective training sets (before resampling is applied)\n",
    "\n",
    "print('LR TRAIN')\n",
    "print(classification_report(targets_train,LR.predict(features_train1)))\n",
    "print('GNB TRAIN')\n",
    "print(classification_report(targets_train,GNB.predict(features_train2)))\n",
    "print('k-NN TRAIN')\n",
    "print(classification_report(targets_train,KNN.predict(features_train2)))\n",
    "print('RF TRAIN')\n",
    "print(classification_report(targets_train,RF.predict(features_train2)))"
   ]
  },
  {
   "cell_type": "code",
   "execution_count": 30,
   "metadata": {},
   "outputs": [
    {
     "name": "stdout",
     "output_type": "stream",
     "text": [
      "LR TRAIN\n",
      "             precision    recall  f1-score   support\n",
      "\n",
      "          0       0.28      0.64      0.38      8804\n",
      "          1       0.89      0.64      0.75     41670\n",
      "\n",
      "avg / total       0.79      0.64      0.69     50474\n",
      "\n",
      "GNB TRAIN\n",
      "             precision    recall  f1-score   support\n",
      "\n",
      "          0       0.21      0.82      0.33      8804\n",
      "          1       0.90      0.35      0.50     41670\n",
      "\n",
      "avg / total       0.78      0.43      0.47     50474\n",
      "\n",
      "k-NN TRAIN\n",
      "             precision    recall  f1-score   support\n",
      "\n",
      "          0       0.24      0.31      0.27      8804\n",
      "          1       0.85      0.80      0.82     41670\n",
      "\n",
      "avg / total       0.74      0.71      0.72     50474\n",
      "\n",
      "RF TRAIN\n",
      "             precision    recall  f1-score   support\n",
      "\n",
      "          0       0.23      0.77      0.36      8804\n",
      "          1       0.91      0.47      0.62     41670\n",
      "\n",
      "avg / total       0.79      0.52      0.57     50474\n",
      "\n"
     ]
    }
   ],
   "source": [
    "# individual performances on the test set, using the respective features (non-clustered for LR, clustered for rest)\n",
    "\n",
    "print('LR TRAIN')\n",
    "print(classification_report(targets_test,LR.predict(features_test1)))\n",
    "print('GNB TRAIN')\n",
    "print(classification_report(targets_test,GNB.predict(features_test2)))\n",
    "print('k-NN TRAIN')\n",
    "print(classification_report(targets_test,KNN.predict(features_test2)))\n",
    "print('RF TRAIN')\n",
    "print(classification_report(targets_test,RF.predict(features_test2)))"
   ]
  },
  {
   "cell_type": "code",
   "execution_count": 13,
   "metadata": {
    "collapsed": true
   },
   "outputs": [],
   "source": [
    "ensemble_train = pd.DataFrame()"
   ]
  },
  {
   "cell_type": "code",
   "execution_count": 14,
   "metadata": {
    "collapsed": true
   },
   "outputs": [],
   "source": [
    "ensemble_train['LR_predict'] = LR.predict(features_train1)\n",
    "ensemble_train['GNB_predict'] = GNB.predict(features_train2)\n",
    "ensemble_train['KNN_predict'] = KNN.predict(features_train2)\n",
    "ensemble_train['RF_predict'] = RF.predict(features_train2)"
   ]
  },
  {
   "cell_type": "code",
   "execution_count": 15,
   "metadata": {
    "collapsed": true
   },
   "outputs": [],
   "source": [
    "# predict_proba returns an array of 2d arrays (probability of each class). we don't need both--that is redundant information\n",
    "# since (each) = (1 - other). take the first (probability of default)\n",
    "\n",
    "ensemble_train['LR_prob'] = LR.predict_proba(features_train1)[:,0]\n",
    "ensemble_train['GNB_prob'] = GNB.predict_proba(features_train2)[:,0]\n",
    "ensemble_train['KNN_prob'] = KNN.predict_proba(features_train2)[:,0]\n",
    "ensemble_train['RF_prob'] = RF.predict_proba(features_train2)[:,0]"
   ]
  },
  {
   "cell_type": "code",
   "execution_count": 32,
   "metadata": {},
   "outputs": [
    {
     "data": {
      "text/html": [
       "<div>\n",
       "<style>\n",
       "    .dataframe thead tr:only-child th {\n",
       "        text-align: right;\n",
       "    }\n",
       "\n",
       "    .dataframe thead th {\n",
       "        text-align: left;\n",
       "    }\n",
       "\n",
       "    .dataframe tbody tr th {\n",
       "        vertical-align: top;\n",
       "    }\n",
       "</style>\n",
       "<table border=\"1\" class=\"dataframe\">\n",
       "  <thead>\n",
       "    <tr style=\"text-align: right;\">\n",
       "      <th></th>\n",
       "      <th>LR_predict</th>\n",
       "      <th>GNB_predict</th>\n",
       "      <th>KNN_predict</th>\n",
       "      <th>RF_predict</th>\n",
       "      <th>LR_prob</th>\n",
       "      <th>GNB_prob</th>\n",
       "      <th>KNN_prob</th>\n",
       "      <th>RF_prob</th>\n",
       "      <th>major_vote</th>\n",
       "    </tr>\n",
       "  </thead>\n",
       "  <tbody>\n",
       "    <tr>\n",
       "      <th>0</th>\n",
       "      <td>1</td>\n",
       "      <td>1</td>\n",
       "      <td>0</td>\n",
       "      <td>1</td>\n",
       "      <td>0.243083</td>\n",
       "      <td>0.342829</td>\n",
       "      <td>0.633333</td>\n",
       "      <td>0.1750</td>\n",
       "      <td>1</td>\n",
       "    </tr>\n",
       "    <tr>\n",
       "      <th>1</th>\n",
       "      <td>0</td>\n",
       "      <td>0</td>\n",
       "      <td>1</td>\n",
       "      <td>0</td>\n",
       "      <td>0.669480</td>\n",
       "      <td>0.865439</td>\n",
       "      <td>0.266667</td>\n",
       "      <td>0.7125</td>\n",
       "      <td>0</td>\n",
       "    </tr>\n",
       "    <tr>\n",
       "      <th>2</th>\n",
       "      <td>1</td>\n",
       "      <td>1</td>\n",
       "      <td>1</td>\n",
       "      <td>1</td>\n",
       "      <td>0.246772</td>\n",
       "      <td>0.023095</td>\n",
       "      <td>0.200000</td>\n",
       "      <td>0.1250</td>\n",
       "      <td>1</td>\n",
       "    </tr>\n",
       "    <tr>\n",
       "      <th>3</th>\n",
       "      <td>1</td>\n",
       "      <td>1</td>\n",
       "      <td>1</td>\n",
       "      <td>1</td>\n",
       "      <td>0.253055</td>\n",
       "      <td>0.223870</td>\n",
       "      <td>0.133333</td>\n",
       "      <td>0.2000</td>\n",
       "      <td>1</td>\n",
       "    </tr>\n",
       "    <tr>\n",
       "      <th>4</th>\n",
       "      <td>1</td>\n",
       "      <td>1</td>\n",
       "      <td>0</td>\n",
       "      <td>0</td>\n",
       "      <td>0.289317</td>\n",
       "      <td>0.154595</td>\n",
       "      <td>0.600000</td>\n",
       "      <td>0.7625</td>\n",
       "      <td>0</td>\n",
       "    </tr>\n",
       "  </tbody>\n",
       "</table>\n",
       "</div>"
      ],
      "text/plain": [
       "   LR_predict  GNB_predict  KNN_predict  RF_predict   LR_prob  GNB_prob  \\\n",
       "0           1            1            0           1  0.243083  0.342829   \n",
       "1           0            0            1           0  0.669480  0.865439   \n",
       "2           1            1            1           1  0.246772  0.023095   \n",
       "3           1            1            1           1  0.253055  0.223870   \n",
       "4           1            1            0           0  0.289317  0.154595   \n",
       "\n",
       "   KNN_prob  RF_prob  major_vote  \n",
       "0  0.633333   0.1750           1  \n",
       "1  0.266667   0.7125           0  \n",
       "2  0.200000   0.1250           1  \n",
       "3  0.133333   0.2000           1  \n",
       "4  0.600000   0.7625           0  "
      ]
     },
     "execution_count": 32,
     "metadata": {},
     "output_type": "execute_result"
    }
   ],
   "source": [
    "ensemble_train.head()"
   ]
  },
  {
   "cell_type": "code",
   "execution_count": 16,
   "metadata": {},
   "outputs": [
    {
     "name": "stdout",
     "output_type": "stream",
     "text": [
      "Ensemble Majority Vote - Train\n",
      "\n",
      "             precision    recall  f1-score   support\n",
      "\n",
      "          0       0.32      0.64      0.43     35905\n",
      "          1       0.90      0.71      0.79    165989\n",
      "\n",
      "avg / total       0.80      0.70      0.73    201894\n",
      "\n",
      "accuracy: 0.695756188891\n"
     ]
    }
   ],
   "source": [
    "\n",
    "# majority vote. if the vote is tied (2-2), vote positive (not a default)\n",
    "\n",
    "def f(x):\n",
    "    if x>1:\n",
    "        return 1\n",
    "    else:\n",
    "        return 0\n",
    "\n",
    "ensemble_train['major_vote'] = \\\n",
    "    ensemble_train['LR_predict']+ensemble_train['GNB_predict']+ensemble_train['KNN_predict']+ensemble_train['RF_predict']\n",
    "ensemble_train['major_vote'] = ensemble_train['major_vote'].apply(f)\n",
    "\n",
    "print('Ensemble Majority Vote - Train')\n",
    "print('')\n",
    "print(classification_report(targets_train,ensemble_train['major_vote']))\n",
    "print('accuracy: '+str(accuracy_score(targets_train,ensemble_train['major_vote'])))"
   ]
  },
  {
   "cell_type": "code",
   "execution_count": 17,
   "metadata": {},
   "outputs": [
    {
     "name": "stdout",
     "output_type": "stream",
     "text": [
      "Ensemble Majority Vote - Train\n",
      "\n",
      "             precision    recall  f1-score   support\n",
      "\n",
      "          0       0.28      0.88      0.42     35905\n",
      "          1       0.95      0.50      0.66    165989\n",
      "\n",
      "avg / total       0.83      0.57      0.62    201894\n",
      "\n",
      "accuracy: 0.570076376713\n"
     ]
    }
   ],
   "source": [
    "# majority vote. if the vote is tied (2-2), vote NEGATIVE (default)\n",
    "\n",
    "# considerable increase in negative recall and drop in positive recall--this is expected\n",
    "# small decrease in negative precision and increase in positive precision--this is also expected\n",
    "# (we're loosening the standards for prediction of the negative class and increasing the standard for prediction\n",
    "# of the positive class)\n",
    "\n",
    "def f(x):\n",
    "    if x>2:\n",
    "        return 1\n",
    "    else:\n",
    "        return 0\n",
    "\n",
    "ensemble_train['major_vote'] = \\\n",
    "    ensemble_train['LR_predict']+ensemble_train['GNB_predict']+ensemble_train['KNN_predict']+ensemble_train['RF_predict']\n",
    "ensemble_train['major_vote'] = ensemble_train['major_vote'].apply(f)\n",
    "\n",
    "print('Ensemble Majority Vote - Train')\n",
    "print('')\n",
    "print(classification_report(targets_train,ensemble_train['major_vote']))\n",
    "print('accuracy: '+str(accuracy_score(targets_train,ensemble_train['major_vote'])))"
   ]
  },
  {
   "cell_type": "code",
   "execution_count": 90,
   "metadata": {},
   "outputs": [],
   "source": [
    "# g() defines the decision criteria (threshold) for classifying a default\n",
    "# ROC w negative instead of positive b/c of labeling choice we took..\n",
    "\n",
    "tnr = []\n",
    "fnr = []\n",
    "threshholds = [0.9,0.8,0.7,0.6,0.5,0.4,0.3,0.2,0.1,0.05,0.02,0.01,0]\n",
    "\n",
    "for t in threshholds:\n",
    "    def g(x):\n",
    "        if x > t:\n",
    "            return 0\n",
    "        else:\n",
    "            return 1\n",
    "    \n",
    "    ensemble_train['joint_prob'] = \\\n",
    "        ensemble_train['LR_prob']*ensemble_train['GNB_prob']*ensemble_train['KNN_prob']*ensemble_train['RF_prob']\n",
    "\n",
    "    ensemble_train['joint_predict'] = ensemble_train['joint_prob'].apply(g)\n",
    "\n",
    "    tn, fp, fn, tp = confusion_matrix(targets_train, ensemble_train['joint_predict']).ravel()\n",
    "\n",
    "    tnr.append(tn/(tn+fp))\n",
    "    fnr.append(fn/(fn+tp))"
   ]
  },
  {
   "cell_type": "code",
   "execution_count": 101,
   "metadata": {},
   "outputs": [],
   "source": [
    "# g() defines the decision criteria (threshold) for classifying a default\n",
    "# ROC w negative instead of positive b/c of labeling choice we took..\n",
    "\n",
    "tnr_lr = []\n",
    "fnr_lr = []\n",
    "\n",
    "tnr_gnb = []\n",
    "fnr_gnb = []\n",
    "\n",
    "tnr_knn = []\n",
    "fnr_knn = []\n",
    "\n",
    "tnr_rf = []\n",
    "fnr_rf = []\n",
    "\n",
    "threshholds = [0.99,0.95,0.9,0.8,0.7,0.6,0.5,0.4,0.3,0.2,0.1,0.05,0.02,0.01,0]\n",
    "\n",
    "for t in threshholds:\n",
    "    def g(x):\n",
    "        if x > t:\n",
    "            return 0\n",
    "        else:\n",
    "            return 1\n",
    "\n",
    "    tn, fp, fn, tp = confusion_matrix(targets_train, ensemble_train['LR_prob'].apply(g)).ravel()\n",
    "    tnr_lr.append(tn/(tn+fp))\n",
    "    fnr_lr.append(fn/(fn+tp))\n",
    "    \n",
    "    tn, fp, fn, tp = confusion_matrix(targets_train, ensemble_train['GNB_prob'].apply(g)).ravel()\n",
    "    tnr_gnb.append(tn/(tn+fp))\n",
    "    fnr_gnb.append(fn/(fn+tp))\n",
    "    \n",
    "    tn, fp, fn, tp = confusion_matrix(targets_train, ensemble_train['KNN_prob'].apply(g)).ravel()\n",
    "    tnr_knn.append(tn/(tn+fp))\n",
    "    fnr_knn.append(fn/(fn+tp))\n",
    "    \n",
    "    tn, fp, fn, tp = confusion_matrix(targets_train, ensemble_train['RF_prob'].apply(g)).ravel()\n",
    "    tnr_rf.append(tn/(tn+fp))\n",
    "    fnr_rf.append(fn/(fn+tp))"
   ]
  },
  {
   "cell_type": "code",
   "execution_count": 105,
   "metadata": {},
   "outputs": [
    {
     "data": {
      "text/plain": [
       "(-0.05, 1.05)"
      ]
     },
     "execution_count": 105,
     "metadata": {},
     "output_type": "execute_result"
    },
    {
     "data": {
      "image/png": "[encoded data removed]",
      "text/plain": [
       "<matplotlib.figure.Figure at 0x1991beb8cc0>"
      ]
     },
     "metadata": {},
     "output_type": "display_data"
    }
   ],
   "source": [
    "fig, ax = plt.subplots(1,1,figsize=(9,8))\n",
    "\n",
    "ax.plot(fnr,tnr,'b')\n",
    "ax.plot(fnr_lr,tnr_lr,'c')\n",
    "ax.plot(fnr_lr,tnr_gnb,'r')\n",
    "ax.plot(fnr_lr,tnr_knn,'g')\n",
    "ax.plot(fnr_lr,tnr_rf,'y')\n",
    "ax.legend(['Joint','LR','GNB','k-NN','RF'])\n",
    "ax.plot([0,1],[0,1],'k--')\n",
    "ax.set_xlim([-0.05,1.05])\n",
    "ax.set_ylim([-0.05,1.05])"
   ]
  },
  {
   "cell_type": "code",
   "execution_count": 19,
   "metadata": {
    "collapsed": true
   },
   "outputs": [],
   "source": [
    "# now, train classifiers \"in sequence\" on the predicted probabilities\n",
    "\n",
    "LR_ensemble = LogisticRegression().fit(ensemble_train[['LR_prob','GNB_prob','KNN_prob','RF_prob']],targets_train.loan_status)\n",
    "GNB_ensemble = GaussianNB().fit(ensemble_train[['LR_prob','GNB_prob','KNN_prob','RF_prob']],targets_train.loan_status)\n",
    "KNN_ensemble = KNeighborsClassifier(n_neighbors=30)\\\n",
    "    .fit(ensemble_train[['LR_prob','GNB_prob','KNN_prob','RF_prob']],targets_train.loan_status)\n",
    "RF_ensemble = RandomForestClassifier(n_estimators=80)\\\n",
    "    .fit(ensemble_train[['LR_prob','GNB_prob','KNN_prob','RF_prob']],targets_train.loan_status)"
   ]
  },
  {
   "cell_type": "code",
   "execution_count": 20,
   "metadata": {},
   "outputs": [
    {
     "name": "stdout",
     "output_type": "stream",
     "text": [
      "LR ENSEMBLE TRAIN\n",
      "             precision    recall  f1-score   support\n",
      "\n",
      "          0       0.90      0.91      0.91     35905\n",
      "          1       0.98      0.98      0.98    165989\n",
      "\n",
      "avg / total       0.97      0.97      0.97    201894\n",
      "\n",
      "GNB ENSEMBLE TRAIN\n",
      "             precision    recall  f1-score   support\n",
      "\n",
      "          0       0.65      0.80      0.72     35905\n",
      "          1       0.95      0.91      0.93    165989\n",
      "\n",
      "avg / total       0.90      0.89      0.89    201894\n",
      "\n",
      "KNN ENSEMBLE TRAIN\n",
      "             precision    recall  f1-score   support\n",
      "\n",
      "          0       0.90      0.93      0.91     35905\n",
      "          1       0.98      0.98      0.98    165989\n",
      "\n",
      "avg / total       0.97      0.97      0.97    201894\n",
      "\n",
      "RF ENSEMBLE TRAIN\n",
      "             precision    recall  f1-score   support\n",
      "\n",
      "          0       1.00      1.00      1.00     35905\n",
      "          1       1.00      1.00      1.00    165989\n",
      "\n",
      "avg / total       1.00      1.00      1.00    201894\n",
      "\n"
     ]
    }
   ],
   "source": [
    "# logistic regression, k-NN, RF all perform extremely well on the training set when running in sequence\n",
    "\n",
    "print('LR ENSEMBLE TRAIN')\n",
    "print(classification_report(targets_train,LR_ensemble.predict(ensemble_train[['LR_prob','GNB_prob','KNN_prob','RF_prob']])))\n",
    "print('GNB ENSEMBLE TRAIN')\n",
    "print(classification_report(targets_train,GNB_ensemble.predict(ensemble_train[['LR_prob','GNB_prob','KNN_prob','RF_prob']])))\n",
    "print('KNN ENSEMBLE TRAIN')\n",
    "print(classification_report(targets_train,KNN_ensemble.predict(ensemble_train[['LR_prob','GNB_prob','KNN_prob','RF_prob']])))\n",
    "print('RF ENSEMBLE TRAIN')\n",
    "print(classification_report(targets_train,RF_ensemble.predict(ensemble_train[['LR_prob','GNB_prob','KNN_prob','RF_prob']])))"
   ]
  },
  {
   "cell_type": "code",
   "execution_count": 21,
   "metadata": {
    "collapsed": true
   },
   "outputs": [],
   "source": [
    "ensemble_test = pd.DataFrame()"
   ]
  },
  {
   "cell_type": "code",
   "execution_count": 22,
   "metadata": {
    "collapsed": true
   },
   "outputs": [],
   "source": [
    "# don't bother with majority vote on the test set.\n",
    "# step 1: develop the probability matrix for input in the next step. use \n",
    "\n",
    "ensemble_test['LR_prob'] = LR.predict_proba(features_test1)[:,0]\n",
    "ensemble_test['GNB_prob'] = GNB.predict_proba(features_test2)[:,0]\n",
    "ensemble_test['KNN_prob'] = KNN.predict_proba(features_test2)[:,0]\n",
    "ensemble_test['RF_prob'] = RF.predict_proba(features_test2)[:,0]"
   ]
  },
  {
   "cell_type": "code",
   "execution_count": 107,
   "metadata": {
    "collapsed": true
   },
   "outputs": [],
   "source": [
    "# g() defines the decision criteria (threshold) for classifying a default\n",
    "# ROC w negative instead of positive b/c of labeling choice we took..\n",
    "\n",
    "tnr = []\n",
    "fnr = []\n",
    "threshholds = [0.9,0.8,0.7,0.6,0.5,0.4,0.3,0.2,0.1,0.05,0.02,0.01,0]\n",
    "\n",
    "for t in threshholds:\n",
    "    def g(x):\n",
    "        if x > t:\n",
    "            return 0\n",
    "        else:\n",
    "            return 1\n",
    "    \n",
    "    ensemble_test['joint_prob'] = \\\n",
    "        ensemble_test['LR_prob']*ensemble_test['GNB_prob']*ensemble_test['KNN_prob']*ensemble_test['RF_prob']\n",
    "\n",
    "    ensemble_test['joint_predict'] = ensemble_test['joint_prob'].apply(g)\n",
    "\n",
    "    tn, fp, fn, tp = confusion_matrix(targets_test, ensemble_test['joint_predict']).ravel()\n",
    "\n",
    "    tnr.append(tn/(tn+fp))\n",
    "    fnr.append(fn/(fn+tp))"
   ]
  },
  {
   "cell_type": "code",
   "execution_count": 108,
   "metadata": {
    "collapsed": true
   },
   "outputs": [],
   "source": [
    "# g() defines the decision criteria (threshold) for classifying a default\n",
    "# ROC w negative instead of positive b/c of labeling choice we took..\n",
    "\n",
    "tnr_lr = []\n",
    "fnr_lr = []\n",
    "\n",
    "tnr_gnb = []\n",
    "fnr_gnb = []\n",
    "\n",
    "tnr_knn = []\n",
    "fnr_knn = []\n",
    "\n",
    "tnr_rf = []\n",
    "fnr_rf = []\n",
    "\n",
    "threshholds = [0.99,0.95,0.9,0.8,0.7,0.6,0.5,0.4,0.3,0.2,0.1,0.05,0.02,0.01,0]\n",
    "\n",
    "for t in threshholds:\n",
    "    def g(x):\n",
    "        if x > t:\n",
    "            return 0\n",
    "        else:\n",
    "            return 1\n",
    "\n",
    "    tn, fp, fn, tp = confusion_matrix(targets_test, ensemble_test['LR_prob'].apply(g)).ravel()\n",
    "    tnr_lr.append(tn/(tn+fp))\n",
    "    fnr_lr.append(fn/(fn+tp))\n",
    "    \n",
    "    tn, fp, fn, tp = confusion_matrix(targets_test, ensemble_test['GNB_prob'].apply(g)).ravel()\n",
    "    tnr_gnb.append(tn/(tn+fp))\n",
    "    fnr_gnb.append(fn/(fn+tp))\n",
    "    \n",
    "    tn, fp, fn, tp = confusion_matrix(targets_test, ensemble_test['KNN_prob'].apply(g)).ravel()\n",
    "    tnr_knn.append(tn/(tn+fp))\n",
    "    fnr_knn.append(fn/(fn+tp))\n",
    "    \n",
    "    tn, fp, fn, tp = confusion_matrix(targets_test, ensemble_test['RF_prob'].apply(g)).ravel()\n",
    "    tnr_rf.append(tn/(tn+fp))\n",
    "    fnr_rf.append(fn/(fn+tp))"
   ]
  },
  {
   "cell_type": "code",
   "execution_count": 109,
   "metadata": {},
   "outputs": [
    {
     "data": {
      "text/plain": [
       "(-0.05, 1.05)"
      ]
     },
     "execution_count": 109,
     "metadata": {},
     "output_type": "execute_result"
    },
    {
     "data": {
      "image/png": "[encoded data removed]",
      "text/plain": [
       "<matplotlib.figure.Figure at 0x199178f0940>"
      ]
     },
     "metadata": {},
     "output_type": "display_data"
    }
   ],
   "source": [
    "fig, ax = plt.subplots(1,1,figsize=(9,8))\n",
    "\n",
    "ax.plot(fnr,tnr,'b')\n",
    "ax.plot(fnr_lr,tnr_lr,'c')\n",
    "ax.plot(fnr_lr,tnr_gnb,'r')\n",
    "ax.plot(fnr_lr,tnr_knn,'g')\n",
    "ax.plot(fnr_lr,tnr_rf,'y')\n",
    "ax.legend(['Joint','LR','GNB','k-NN','RF'])\n",
    "ax.plot([0,1],[0,1],'k--')\n",
    "ax.set_xlim([-0.05,1.05])\n",
    "ax.set_ylim([-0.05,1.05])"
   ]
  },
  {
   "cell_type": "code",
   "execution_count": 23,
   "metadata": {},
   "outputs": [
    {
     "name": "stdout",
     "output_type": "stream",
     "text": [
      "LR ENSEMBLE TEST\n",
      "             precision    recall  f1-score   support\n",
      "\n",
      "          0     0.2995    0.0517    0.0882      8804\n",
      "          1     0.8295    0.9745    0.8961     41670\n",
      "\n",
      "avg / total     0.7370    0.8135    0.7552     50474\n",
      "\n",
      "GNB ENSEMBLE TEST\n",
      "             precision    recall  f1-score   support\n",
      "\n",
      "          0     0.3447    0.2706    0.3031      8804\n",
      "          1     0.8526    0.8913    0.8715     41670\n",
      "\n",
      "avg / total     0.7640    0.7830    0.7724     50474\n",
      "\n",
      "KNN ENSEMBLE TEST\n",
      "             precision    recall  f1-score   support\n",
      "\n",
      "          0     0.3072    0.0570    0.0962      8804\n",
      "          1     0.8300    0.9728    0.8958     41670\n",
      "\n",
      "avg / total     0.7388    0.8131    0.7563     50474\n",
      "\n",
      "RF ENSEMBLE TEST\n",
      "             precision    recall  f1-score   support\n",
      "\n",
      "          0     0.2997    0.0546    0.0924      8804\n",
      "          1     0.8297    0.9730    0.8957     41670\n",
      "\n",
      "avg / total     0.7372    0.8128    0.7556     50474\n",
      "\n"
     ]
    }
   ],
   "source": [
    "# not nearly as good performance on the test set.. esp recall again. let's resample one more time.\n",
    "\n",
    "print('LR ENSEMBLE TEST')\n",
    "print(classification_report(targets_test,LR_ensemble.predict(ensemble_test),digits=4))\n",
    "print('GNB ENSEMBLE TEST')\n",
    "print(classification_report(targets_test,GNB_ensemble.predict(ensemble_test),digits=4))\n",
    "print('KNN ENSEMBLE TEST')\n",
    "print(classification_report(targets_test,KNN_ensemble.predict(ensemble_test),digits=4))\n",
    "print('RF ENSEMBLE TEST')\n",
    "print(classification_report(targets_test,RF_ensemble.predict(ensemble_test),digits=4))"
   ]
  },
  {
   "cell_type": "code",
   "execution_count": 24,
   "metadata": {
    "collapsed": true
   },
   "outputs": [],
   "source": [
    "final_ratio = {0:((targets_train-1)*-1).loan_status.sum(),\n",
    "               1:((targets_train-1)*-1).loan_status.sum()}"
   ]
  },
  {
   "cell_type": "code",
   "execution_count": 25,
   "metadata": {
    "collapsed": true
   },
   "outputs": [],
   "source": [
    "final_features, final_targets = RandomUnderSampler(ratio=final_ratio)\\\n",
    "    .fit_sample(ensemble_train[['LR_prob','GNB_prob','KNN_prob','RF_prob']],targets_train.loan_status)"
   ]
  },
  {
   "cell_type": "code",
   "execution_count": 26,
   "metadata": {
    "collapsed": true
   },
   "outputs": [],
   "source": [
    "# now, train classifiers \"in sequence\" on the predicted probabilities\n",
    "\n",
    "LR_ensemble1 = LogisticRegression().fit(final_features,final_targets)\n",
    "GNB_ensemble1 = GaussianNB().fit(final_features,final_targets)\n",
    "KNN_ensemble1 = KNeighborsClassifier(n_neighbors=30).fit(final_features,final_targets)\n",
    "RF_ensemble1 = RandomForestClassifier(n_estimators=80).fit(final_features,final_targets)"
   ]
  },
  {
   "cell_type": "code",
   "execution_count": 27,
   "metadata": {},
   "outputs": [
    {
     "name": "stdout",
     "output_type": "stream",
     "text": [
      "LR RESAMPLED ENSEMBLE TEST\n",
      "             precision    recall  f1-score   support\n",
      "\n",
      "          0     0.3046    0.1230    0.1753      8804\n",
      "          1     0.8354    0.9407    0.8849     41670\n",
      "\n",
      "avg / total     0.7429    0.7981    0.7612     50474\n",
      "\n",
      "GNB RESAMPLED ENSEMBLE TEST\n",
      "             precision    recall  f1-score   support\n",
      "\n",
      "          0     0.3198    0.3519    0.3351      8804\n",
      "          1     0.8601    0.8419    0.8509     41670\n",
      "\n",
      "avg / total     0.7659    0.7564    0.7609     50474\n",
      "\n",
      "KNN RESAMPLED ENSEMBLE TEST\n",
      "             precision    recall  f1-score   support\n",
      "\n",
      "          0     0.3115    0.1404    0.1935      8804\n",
      "          1     0.8373    0.9344    0.8832     41670\n",
      "\n",
      "avg / total     0.7456    0.7959    0.7629     50474\n",
      "\n",
      "RF RESAMPLED ENSEMBLE TEST\n",
      "             precision    recall  f1-score   support\n",
      "\n",
      "          0     0.3092    0.1153    0.1679      8804\n",
      "          1     0.8349    0.9456    0.8868     41670\n",
      "\n",
      "avg / total     0.7432    0.8007    0.7614     50474\n",
      "\n"
     ]
    }
   ],
   "source": [
    "# performance is still lagging behind. \n",
    "\n",
    "print('LR RESAMPLED ENSEMBLE TEST')\n",
    "print(classification_report(targets_test,LR_ensemble1.predict(ensemble_test),digits=4))\n",
    "print('GNB RESAMPLED ENSEMBLE TEST')\n",
    "print(classification_report(targets_test,GNB_ensemble1.predict(ensemble_test),digits=4))\n",
    "print('KNN RESAMPLED ENSEMBLE TEST')\n",
    "print(classification_report(targets_test,KNN_ensemble1.predict(ensemble_test),digits=4))\n",
    "print('RF RESAMPLED ENSEMBLE TEST')\n",
    "print(classification_report(targets_test,RF_ensemble1.predict(ensemble_test),digits=4))"
   ]
  },
  {
   "cell_type": "code",
   "execution_count": 28,
   "metadata": {
    "collapsed": true
   },
   "outputs": [],
   "source": [
    "# add a majority vote section for the test set?\n",
    "# add accuracy scores to test set"
   ]
  },
  {
   "cell_type": "code",
   "execution_count": 29,
   "metadata": {
    "collapsed": true
   },
   "outputs": [],
   "source": [
    "# the algorithms can find very particular patterns in the training set when using ensembles in sequence, but they do\n",
    "# not generalize to the test set. again seems to reaffirm that there are not very clear \"default patterns\"...."
   ]
  }
 ],
 "metadata": {
  "kernelspec": {
   "display_name": "Python 3",
   "language": "python",
   "name": "python3"
  },
  "language_info": {
   "codemirror_mode": {
    "name": "ipython",
    "version": 3
   },
   "file_extension": ".py",
   "mimetype": "text/x-python",
   "name": "python",
   "nbconvert_exporter": "python",
   "pygments_lexer": "ipython3",
   "version": "3.6.3"
  }
 },
 "nbformat": 4,
 "nbformat_minor": 2
}
